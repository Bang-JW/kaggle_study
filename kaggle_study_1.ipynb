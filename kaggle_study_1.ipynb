  {
   "cell_type": "markdown",
   "metadata": {},
   "source": [
    "# 데이터셋에 대한 설명\n",
    "\n",
    " - Customer care calls : 배송조회 문의전화 건수\n",
    " "
   ]
  },
  {
   "cell_type": "markdown",
   "metadata": {},
   "source": [
    "# 찾아내고 싶은 정보\n",
    "\n",
    "\n",
    " - 창고 블럭별 상품 운송 수단의 관계 -> 어떤식으로 진행해야 할까요..?\n",
    " - 제때 도착하는 상품의 특징들\n",
    " - 성별과 할인율 상품"
   ]
  },
  {
   "cell_type": "markdown",
   "metadata": {},
   "source": [
    "## 머신러닝까지 봤을 때\n",
    "\n",
    " - 어떤 상품이 제때 도착할까에 대한 예측(kaggle을 참조했습니다)"
   ]
  },
  {
   "cell_type": "code",
   "execution_count": 1,
   "metadata": {},
   "outputs": [],
   "source": [
    "import pandas as pd\n",
    "import numpy as np\n",
    "import matplotlib.pyplot as plt\n",
    "import seaborn as sns"
   ]
  },
  {
   "cell_type": "markdown",
   "metadata": {},
   "source": [
    "## Data Load 및 Index 설정"
   ]
  },
  {
   "cell_type": "code",
   "execution_count": 2,
   "metadata": {},
   "outputs": [],
   "source": [
    "# 고객의 ID를 인덱스로 설정\n",
    "\n",
    "data = pd.read_csv('data.csv')"
   ]
  },
  {
   "cell_type": "code",
   "execution_count": 3,
   "metadata": {},
   "outputs": [
    {
     "data": {
      "text/html": [
       "<div>\n",
       "<style scoped>\n",
       "    .dataframe tbody tr th:only-of-type {\n",
       "        vertical-align: middle;\n",
       "    }\n",
       "\n",
       "    .dataframe tbody tr th {\n",
       "        vertical-align: top;\n",
       "    }\n",
       "\n",
       "    .dataframe thead th {\n",
       "        text-align: right;\n",
       "    }\n",
       "</style>\n",
       "<table border=\"1\" class=\"dataframe\">\n",
       "  <thead>\n",
       "    <tr style=\"text-align: right;\">\n",
       "      <th></th>\n",
       "      <th>ID</th>\n",
       "      <th>Warehouse_block</th>\n",
       "      <th>Mode_of_Shipment</th>\n",
       "      <th>Customer_care_calls</th>\n",
       "      <th>Customer_rating</th>\n",
       "      <th>Cost_of_the_Product</th>\n",
       "      <th>Prior_purchases</th>\n",
       "      <th>Product_importance</th>\n",
       "      <th>Gender</th>\n",
       "      <th>Discount_offered</th>\n",
       "      <th>Weight_in_gms</th>\n",
       "      <th>Reached.on.Time_Y.N</th>\n",
       "    </tr>\n",
       "  </thead>\n",
       "  <tbody>\n",
       "    <tr>\n",
       "      <th>0</th>\n",
       "      <td>1</td>\n",
       "      <td>D</td>\n",
       "      <td>Flight</td>\n",
       "      <td>4</td>\n",
       "      <td>2</td>\n",
       "      <td>177</td>\n",
       "      <td>3</td>\n",
       "      <td>low</td>\n",
       "      <td>F</td>\n",
       "      <td>44</td>\n",
       "      <td>1233</td>\n",
       "      <td>1</td>\n",
       "    </tr>\n",
       "    <tr>\n",
       "      <th>1</th>\n",
       "      <td>2</td>\n",
       "      <td>F</td>\n",
       "      <td>Flight</td>\n",
       "      <td>4</td>\n",
       "      <td>5</td>\n",
       "      <td>216</td>\n",
       "      <td>2</td>\n",
       "      <td>low</td>\n",
       "      <td>M</td>\n",
       "      <td>59</td>\n",
       "      <td>3088</td>\n",
       "      <td>1</td>\n",
       "    </tr>\n",
       "    <tr>\n",
       "      <th>2</th>\n",
       "      <td>3</td>\n",
       "      <td>A</td>\n",
       "      <td>Flight</td>\n",
       "      <td>2</td>\n",
       "      <td>2</td>\n",
       "      <td>183</td>\n",
       "      <td>4</td>\n",
       "      <td>low</td>\n",
       "      <td>M</td>\n",
       "      <td>48</td>\n",
       "      <td>3374</td>\n",
       "      <td>1</td>\n",
       "    </tr>\n",
       "    <tr>\n",
       "      <th>3</th>\n",
       "      <td>4</td>\n",
       "      <td>B</td>\n",
       "      <td>Flight</td>\n",
       "      <td>3</td>\n",
       "      <td>3</td>\n",
       "      <td>176</td>\n",
       "      <td>4</td>\n",
       "      <td>medium</td>\n",
       "      <td>M</td>\n",
       "      <td>10</td>\n",
       "      <td>1177</td>\n",
       "      <td>1</td>\n",
       "    </tr>\n",
       "    <tr>\n",
       "      <th>4</th>\n",
       "      <td>5</td>\n",
       "      <td>C</td>\n",
       "      <td>Flight</td>\n",
       "      <td>2</td>\n",
       "      <td>2</td>\n",
       "      <td>184</td>\n",
       "      <td>3</td>\n",
       "      <td>medium</td>\n",
       "      <td>F</td>\n",
       "      <td>46</td>\n",
       "      <td>2484</td>\n",
       "      <td>1</td>\n",
       "    </tr>\n",
       "    <tr>\n",
       "      <th>...</th>\n",
       "      <td>...</td>\n",
       "      <td>...</td>\n",
       "      <td>...</td>\n",
       "      <td>...</td>\n",
       "      <td>...</td>\n",
       "      <td>...</td>\n",
       "      <td>...</td>\n",
       "      <td>...</td>\n",
       "      <td>...</td>\n",
       "      <td>...</td>\n",
       "      <td>...</td>\n",
       "      <td>...</td>\n",
       "    </tr>\n",
       "    <tr>\n",
       "      <th>10994</th>\n",
       "      <td>10995</td>\n",
       "      <td>A</td>\n",
       "      <td>Ship</td>\n",
       "      <td>4</td>\n",
       "      <td>1</td>\n",
       "      <td>252</td>\n",
       "      <td>5</td>\n",
       "      <td>medium</td>\n",
       "      <td>F</td>\n",
       "      <td>1</td>\n",
       "      <td>1538</td>\n",
       "      <td>1</td>\n",
       "    </tr>\n",
       "    <tr>\n",
       "      <th>10995</th>\n",
       "      <td>10996</td>\n",
       "      <td>B</td>\n",
       "      <td>Ship</td>\n",
       "      <td>4</td>\n",
       "      <td>1</td>\n",
       "      <td>232</td>\n",
       "      <td>5</td>\n",
       "      <td>medium</td>\n",
       "      <td>F</td>\n",
       "      <td>6</td>\n",
       "      <td>1247</td>\n",
       "      <td>0</td>\n",
       "    </tr>\n",
       "    <tr>\n",
       "      <th>10996</th>\n",
       "      <td>10997</td>\n",
       "      <td>C</td>\n",
       "      <td>Ship</td>\n",
       "      <td>5</td>\n",
       "      <td>4</td>\n",
       "      <td>242</td>\n",
       "      <td>5</td>\n",
       "      <td>low</td>\n",
       "      <td>F</td>\n",
       "      <td>4</td>\n",
       "      <td>1155</td>\n",
       "      <td>0</td>\n",
       "    </tr>\n",
       "    <tr>\n",
       "      <th>10997</th>\n",
       "      <td>10998</td>\n",
       "      <td>F</td>\n",
       "      <td>Ship</td>\n",
       "      <td>5</td>\n",
       "      <td>2</td>\n",
       "      <td>223</td>\n",
       "      <td>6</td>\n",
       "      <td>medium</td>\n",
       "      <td>M</td>\n",
       "      <td>2</td>\n",
       "      <td>1210</td>\n",
       "      <td>0</td>\n",
       "    </tr>\n",
       "    <tr>\n",
       "      <th>10998</th>\n",
       "      <td>10999</td>\n",
       "      <td>D</td>\n",
       "      <td>Ship</td>\n",
       "      <td>2</td>\n",
       "      <td>5</td>\n",
       "      <td>155</td>\n",
       "      <td>5</td>\n",
       "      <td>low</td>\n",
       "      <td>F</td>\n",
       "      <td>6</td>\n",
       "      <td>1639</td>\n",
       "      <td>0</td>\n",
       "    </tr>\n",
       "  </tbody>\n",
       "</table>\n",
       "<p>10999 rows × 12 columns</p>\n",
       "</div>"
      ],
      "text/plain": [
       "          ID Warehouse_block Mode_of_Shipment  Customer_care_calls  \\\n",
       "0          1               D           Flight                    4   \n",
       "1          2               F           Flight                    4   \n",
       "2          3               A           Flight                    2   \n",
       "3          4               B           Flight                    3   \n",
       "4          5               C           Flight                    2   \n",
       "...      ...             ...              ...                  ...   \n",
       "10994  10995               A             Ship                    4   \n",
       "10995  10996               B             Ship                    4   \n",
       "10996  10997               C             Ship                    5   \n",
       "10997  10998               F             Ship                    5   \n",
       "10998  10999               D             Ship                    2   \n",
       "\n",
       "       Customer_rating  Cost_of_the_Product  Prior_purchases  \\\n",
       "0                    2                  177                3   \n",
       "1                    5                  216                2   \n",
       "2                    2                  183                4   \n",
       "3                    3                  176                4   \n",
       "4                    2                  184                3   \n",
       "...                ...                  ...              ...   \n",
       "10994                1                  252                5   \n",
       "10995                1                  232                5   \n",
       "10996                4                  242                5   \n",
       "10997                2                  223                6   \n",
       "10998                5                  155                5   \n",
       "\n",
       "      Product_importance Gender  Discount_offered  Weight_in_gms  \\\n",
       "0                    low      F                44           1233   \n",
       "1                    low      M                59           3088   \n",
       "2                    low      M                48           3374   \n",
       "3                 medium      M                10           1177   \n",
       "4                 medium      F                46           2484   \n",
       "...                  ...    ...               ...            ...   \n",
       "10994             medium      F                 1           1538   \n",
       "10995             medium      F                 6           1247   \n",
       "10996                low      F                 4           1155   \n",
       "10997             medium      M                 2           1210   \n",
       "10998                low      F                 6           1639   \n",
       "\n",
       "       Reached.on.Time_Y.N  \n",
       "0                        1  \n",
       "1                        1  \n",
       "2                        1  \n",
       "3                        1  \n",
       "4                        1  \n",
       "...                    ...  \n",
       "10994                    1  \n",
       "10995                    0  \n",
       "10996                    0  \n",
       "10997                    0  \n",
       "10998                    0  \n",
       "\n",
       "[10999 rows x 12 columns]"
      ]
     },
     "execution_count": 3,
     "metadata": {},
     "output_type": "execute_result"
    }
   ],
   "source": [
    "data"
   ]
  },
  {
   "cell_type": "code",
   "execution_count": 4,
   "metadata": {
    "scrolled": false
   },
   "outputs": [
    {
     "data": {
      "text/html": [
       "<div>\n",
       "<style scoped>\n",
       "    .dataframe tbody tr th:only-of-type {\n",
       "        vertical-align: middle;\n",
       "    }\n",
       "\n",
       "    .dataframe tbody tr th {\n",
       "        vertical-align: top;\n",
       "    }\n",
       "\n",
       "    .dataframe thead th {\n",
       "        text-align: right;\n",
       "    }\n",
       "</style>\n",
       "<table border=\"1\" class=\"dataframe\">\n",
       "  <thead>\n",
       "    <tr style=\"text-align: right;\">\n",
       "      <th></th>\n",
       "      <th>ID</th>\n",
       "      <th>Customer_care_calls</th>\n",
       "      <th>Customer_rating</th>\n",
       "      <th>Cost_of_the_Product</th>\n",
       "      <th>Prior_purchases</th>\n",
       "      <th>Discount_offered</th>\n",
       "      <th>Weight_in_gms</th>\n",
       "      <th>Reached.on.Time_Y.N</th>\n",
       "    </tr>\n",
       "  </thead>\n",
       "  <tbody>\n",
       "    <tr>\n",
       "      <th>count</th>\n",
       "      <td>10999.00000</td>\n",
       "      <td>10999.000000</td>\n",
       "      <td>10999.000000</td>\n",
       "      <td>10999.000000</td>\n",
       "      <td>10999.000000</td>\n",
       "      <td>10999.000000</td>\n",
       "      <td>10999.000000</td>\n",
       "      <td>10999.000000</td>\n",
       "    </tr>\n",
       "    <tr>\n",
       "      <th>mean</th>\n",
       "      <td>5500.00000</td>\n",
       "      <td>4.054459</td>\n",
       "      <td>2.990545</td>\n",
       "      <td>210.196836</td>\n",
       "      <td>3.567597</td>\n",
       "      <td>13.373216</td>\n",
       "      <td>3634.016729</td>\n",
       "      <td>0.596691</td>\n",
       "    </tr>\n",
       "    <tr>\n",
       "      <th>std</th>\n",
       "      <td>3175.28214</td>\n",
       "      <td>1.141490</td>\n",
       "      <td>1.413603</td>\n",
       "      <td>48.063272</td>\n",
       "      <td>1.522860</td>\n",
       "      <td>16.205527</td>\n",
       "      <td>1635.377251</td>\n",
       "      <td>0.490584</td>\n",
       "    </tr>\n",
       "    <tr>\n",
       "      <th>min</th>\n",
       "      <td>1.00000</td>\n",
       "      <td>2.000000</td>\n",
       "      <td>1.000000</td>\n",
       "      <td>96.000000</td>\n",
       "      <td>2.000000</td>\n",
       "      <td>1.000000</td>\n",
       "      <td>1001.000000</td>\n",
       "      <td>0.000000</td>\n",
       "    </tr>\n",
       "    <tr>\n",
       "      <th>25%</th>\n",
       "      <td>2750.50000</td>\n",
       "      <td>3.000000</td>\n",
       "      <td>2.000000</td>\n",
       "      <td>169.000000</td>\n",
       "      <td>3.000000</td>\n",
       "      <td>4.000000</td>\n",
       "      <td>1839.500000</td>\n",
       "      <td>0.000000</td>\n",
       "    </tr>\n",
       "    <tr>\n",
       "      <th>50%</th>\n",
       "      <td>5500.00000</td>\n",
       "      <td>4.000000</td>\n",
       "      <td>3.000000</td>\n",
       "      <td>214.000000</td>\n",
       "      <td>3.000000</td>\n",
       "      <td>7.000000</td>\n",
       "      <td>4149.000000</td>\n",
       "      <td>1.000000</td>\n",
       "    </tr>\n",
       "    <tr>\n",
       "      <th>75%</th>\n",
       "      <td>8249.50000</td>\n",
       "      <td>5.000000</td>\n",
       "      <td>4.000000</td>\n",
       "      <td>251.000000</td>\n",
       "      <td>4.000000</td>\n",
       "      <td>10.000000</td>\n",
       "      <td>5050.000000</td>\n",
       "      <td>1.000000</td>\n",
       "    </tr>\n",
       "    <tr>\n",
       "      <th>max</th>\n",
       "      <td>10999.00000</td>\n",
       "      <td>7.000000</td>\n",
       "      <td>5.000000</td>\n",
       "      <td>310.000000</td>\n",
       "      <td>10.000000</td>\n",
       "      <td>65.000000</td>\n",
       "      <td>7846.000000</td>\n",
       "      <td>1.000000</td>\n",
       "    </tr>\n",
       "  </tbody>\n",
       "</table>\n",
       "</div>"
      ],
      "text/plain": [
       "                ID  Customer_care_calls  Customer_rating  Cost_of_the_Product  \\\n",
       "count  10999.00000         10999.000000     10999.000000         10999.000000   \n",
       "mean    5500.00000             4.054459         2.990545           210.196836   \n",
       "std     3175.28214             1.141490         1.413603            48.063272   \n",
       "min        1.00000             2.000000         1.000000            96.000000   \n",
       "25%     2750.50000             3.000000         2.000000           169.000000   \n",
       "50%     5500.00000             4.000000         3.000000           214.000000   \n",
       "75%     8249.50000             5.000000         4.000000           251.000000   \n",
       "max    10999.00000             7.000000         5.000000           310.000000   \n",
       "\n",
       "       Prior_purchases  Discount_offered  Weight_in_gms  Reached.on.Time_Y.N  \n",
       "count     10999.000000      10999.000000   10999.000000         10999.000000  \n",
       "mean          3.567597         13.373216    3634.016729             0.596691  \n",
       "std           1.522860         16.205527    1635.377251             0.490584  \n",
       "min           2.000000          1.000000    1001.000000             0.000000  \n",
       "25%           3.000000          4.000000    1839.500000             0.000000  \n",
       "50%           3.000000          7.000000    4149.000000             1.000000  \n",
       "75%           4.000000         10.000000    5050.000000             1.000000  \n",
       "max          10.000000         65.000000    7846.000000             1.000000  "
      ]
     },
     "execution_count": 4,
     "metadata": {},
     "output_type": "execute_result"
    }
   ],
   "source": [
    "data.describe()"
   ]
  },
  {
   "cell_type": "code",
   "execution_count": 5,
   "metadata": {},
   "outputs": [
    {
     "data": {
      "text/plain": [
       "<AxesSubplot:>"
      ]
     },
     "execution_count": 5,
     "metadata": {},
     "output_type": "execute_result"
    },
    {
     "data": {
      "image/png": "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\n",
      "text/plain": [
       "<Figure size 720x720 with 2 Axes>"
      ]
     },
     "metadata": {
      "needs_background": "light"
     },
     "output_type": "display_data"
    }
   ],
   "source": [
    "plt.figure(figsize=(10,10))\n",
    "sns.heatmap(data.corr(), annot=True)"
   ]
  },
  {
   "cell_type": "code",
   "execution_count": 6,
   "metadata": {
    "scrolled": false
   },
   "outputs": [
    {
     "data": {
      "text/plain": [
       "<seaborn.axisgrid.FacetGrid at 0x1f50d7c9430>"
      ]
     },
     "execution_count": 6,
     "metadata": {},
     "output_type": "execute_result"
    },
    {
     "data": {
      "image/png": "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\n",
      "text/plain": [
       "<Figure size 360x360 with 1 Axes>"
      ]
     },
     "metadata": {
      "needs_background": "light"
     },
     "output_type": "display_data"
    }
   ],
   "source": [
    "# 상품의 가격대 분포\n",
    "sns.displot(data['Cost_of_the_Product'])"
   ]
  },
  {
   "cell_type": "markdown",
   "metadata": {},
   "source": [
    "### 배송조회 문의전화가 많은 상품의 가격의 분포"
   ]
  },
  {
   "cell_type": "code",
   "execution_count": 7,
   "metadata": {},
   "outputs": [
    {
     "data": {
      "text/plain": [
       "<AxesSubplot:xlabel='Customer_care_calls', ylabel='Cost_of_the_Product'>"
      ]
     },
     "execution_count": 7,
     "metadata": {},
     "output_type": "execute_result"
    },
    {
     "data": {
      "image/png": "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\n",
      "text/plain": [
       "<Figure size 720x360 with 1 Axes>"
      ]
     },
     "metadata": {
      "needs_background": "light"
     },
     "output_type": "display_data"
    }
   ],
   "source": [
    "#배송조회 문의전화 건수가 높을 수록 가격대가 높아진다.\n",
    "\n",
    "plt.figure(figsize=(10,5))\n",
    "sns.violinplot(x=data['Customer_care_calls'], y = data['Cost_of_the_Product'])"
   ]
  },
  {
   "cell_type": "code",
   "execution_count": 8,
   "metadata": {
    "scrolled": true
   },
   "outputs": [
    {
     "data": {
      "text/plain": [
       "<pandas.core.groupby.generic.DataFrameGroupBy object at 0x000001F507FE6310>"
      ]
     },
     "execution_count": 8,
     "metadata": {},
     "output_type": "execute_result"
    }
   ],
   "source": [
    "data.groupby('Product_importance')"
   ]
  },
  {
   "cell_type": "markdown",
   "metadata": {},
   "source": [
    "**배송조회 문의가 많은 물건일 수록 가격대가 높이 있는 것을 알 수 있다.**"
   ]
  },
  {
   "cell_type": "markdown",
   "metadata": {},
   "source": [
    "### 중요도별 물건이 제때 도착하는 지 못하는 지"
   ]
  },
  {
   "cell_type": "code",
   "execution_count": 96,
   "metadata": {
    "scrolled": false
   },
   "outputs": [
    {
     "data": {
      "text/plain": [
       "([<matplotlib.patches.Wedge at 0x1f5149bae50>,\n",
       "  <matplotlib.patches.Wedge at 0x1f514a7eb50>,\n",
       "  <matplotlib.patches.Wedge at 0x1f5149ae070>],\n",
       " [Text(0.06936828343570717, 1.1979933394026794, 'low'),\n",
       "  Text(-0.3872754648587564, -1.1357894674271436, 'medium'),\n",
       "  Text(1.1562773684499987, -0.3209714118272002, 'high')],\n",
       " [Text(0.04046483200416251, 0.6988294479848963, '48.2%'),\n",
       "  Text(-0.22591068783427454, -0.662543855999167, '43.2%'),\n",
       "  Text(0.6744951315958325, -0.18723332356586678, '8.6%')])"
      ]
     },
     "execution_count": 96,
     "metadata": {},
     "output_type": "execute_result"
    },
    {
     "data": {
      "image/png": "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\n",
      "text/plain": [
       "<Figure size 432x288 with 1 Axes>"
      ]
     },
     "metadata": {},
     "output_type": "display_data"
    }
   ],
   "source": [
    "plt.pie(importance.values, labels = importance.index, autopct='%.1f%%', explode = [0.1,0.1,0.1], shadow=True)"
   ]
  },
  {
   "cell_type": "code",
   "execution_count": 95,
   "metadata": {
    "scrolled": true
   },
   "outputs": [
    {
     "data": {
      "text/plain": [
       "low       5297\n",
       "medium    4754\n",
       "high       948\n",
       "Name: Product_importance, dtype: int64"
      ]
     },
     "execution_count": 95,
     "metadata": {},
     "output_type": "execute_result"
    }
   ],
   "source": [
    "importance = data['Product_importance'].value_counts()\n",
    "importance"
   ]
  },
  {
   "cell_type": "code",
   "execution_count": 92,
   "metadata": {
    "scrolled": false
   },
   "outputs": [
    {
     "name": "stderr",
     "output_type": "stream",
     "text": [
      "C:\\Users\\bjw97\\anaconda3\\lib\\site-packages\\seaborn\\_decorators.py:36: FutureWarning: Pass the following variable as a keyword arg: x. From version 0.12, the only valid positional argument will be `data`, and passing other arguments without an explicit keyword will result in an error or misinterpretation.\n",
      "  warnings.warn(\n"
     ]
    },
    {
     "data": {
      "text/plain": [
       "<AxesSubplot:xlabel='Product_importance', ylabel='count'>"
      ]
     },
     "execution_count": 92,
     "metadata": {},
     "output_type": "execute_result"
    },
    {
     "data": {
      "image/png": "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\n",
      "text/plain": [
       "<Figure size 432x288 with 1 Axes>"
      ]
     },
     "metadata": {
      "needs_background": "light"
     },
     "output_type": "display_data"
    }
   ],
   "source": [
    "sns.countplot('Product_importance', hue = 'Reached.on.Time_Y.N', data = data )"
   ]
  },
  {
   "cell_type": "code",
   "execution_count": 98,
   "metadata": {},
   "outputs": [
    {
     "data": {
      "text/plain": [
       "Product_importance\n",
       "high       332\n",
       "low       2157\n",
       "medium    1947\n",
       "Name: Reached.on.Time_Y.N, dtype: int64"
      ]
     },
     "execution_count": 98,
     "metadata": {},
     "output_type": "execute_result"
    }
   ],
   "source": [
    "importance_on_time = data[data['Reached.on.Time_Y.N'] == 0].groupby('Product_importance').count()['Reached.on.Time_Y.N']\n",
    "importance_on_time"
   ]
  },
  {
   "cell_type": "code",
   "execution_count": 99,
   "metadata": {},
   "outputs": [
    {
     "data": {
      "text/plain": [
       "Product_importance\n",
       "high       616\n",
       "low       3140\n",
       "medium    2807\n",
       "Name: Reached.on.Time_Y.N, dtype: int64"
      ]
     },
     "execution_count": 99,
     "metadata": {},
     "output_type": "execute_result"
    }
   ],
   "source": [
    "importance_not_on_time = data[data['Reached.on.Time_Y.N'] == 1].groupby('Product_importance').count()['Reached.on.Time_Y.N']\n",
    "importance_not_on_time"
   ]
  },
  {
   "cell_type": "code",
   "execution_count": 104,
   "metadata": {},
   "outputs": [
    {
     "name": "stdout",
     "output_type": "stream",
     "text": [
      "High on time:  0.350210970464135\n",
      "Medium on time:  0.40954985275557426\n",
      "Low on time:  0.4072116292240891\n"
     ]
    }
   ],
   "source": [
    "print('High on time: ',  importance_on_time['high'] / (importance_not_on_time['high'] + importance_on_time['high']))\n",
    "print('Medium on time: ',  importance_on_time['medium'] / (importance_not_on_time['medium'] + importance_on_time['medium']))\n",
    "print('Low on time: ',  importance_on_time['low'] / (importance_not_on_time['low'] + importance_on_time['low']))"
   ]
  },
  {
   "cell_type": "code",
   "execution_count": 105,
   "metadata": {},
   "outputs": [
    {
     "name": "stdout",
     "output_type": "stream",
     "text": [
      "High not on time:  0.6497890295358649\n",
      "Medium not on time:  0.5904501472444258\n",
      "Low not on time:  0.5927883707759108\n"
     ]
    }
   ],
   "source": [
    "print('High not on time: ',  importance_not_on_time['high'] / (importance_not_on_time['high'] + importance_on_time['high']))\n",
    "print('Medium not on time: ',  importance_not_on_time['medium'] / (importance_not_on_time['medium'] + importance_on_time['medium']))\n",
    "print('Low not on time: ',  importance_not_on_time['low'] / (importance_not_on_time['low'] + importance_on_time['low']))"
   ]
  },
  {
   "cell_type": "markdown",
   "metadata": {},
   "source": [
    "**중요도가 높을수록 제 시간에 도착하지 않는다(?)**"
   ]
  },
  {
   "cell_type": "markdown",
   "metadata": {},
   "source": [
    "--------------------"
   ]
  },
  {
   "cell_type": "markdown",
   "metadata": {},
   "source": [
    "-------------------"
   ]
  },
  {
   "cell_type": "markdown",
   "metadata": {},
   "source": [
    "### 운송수단별 물건이 제때 도착하지 못한 비율 & 도착한 비율"
   ]
  },
  {
   "cell_type": "code",
   "execution_count": 94,
   "metadata": {},
   "outputs": [
    {
     "data": {
      "text/plain": [
       "Ship      7462\n",
       "Flight    1777\n",
       "Road      1760\n",
       "Name: Mode_of_Shipment, dtype: int64"
      ]
     },
     "execution_count": 94,
     "metadata": {},
     "output_type": "execute_result"
    }
   ],
   "source": [
    "# Shipment 별 개수 구하기\n",
    "\n",
    "shipment  = data['Mode_of_Shipment'].value_counts()\n",
    "shipment"
   ]
  },
  {
   "cell_type": "code",
   "execution_count": 97,
   "metadata": {
    "scrolled": false
   },
   "outputs": [
    {
     "data": {
      "text/plain": [
       "([<matplotlib.patches.Wedge at 0x1f514a9a6d0>,\n",
       "  <matplotlib.patches.Wedge at 0x1f514a9d5b0>,\n",
       "  <matplotlib.patches.Wedge at 0x1f5149afb80>],\n",
       " [Text(-0.6379720096459249, 1.016361999933262, 'Ship'),\n",
       "  Text(0.06936828343570742, -1.1979933394026794, 'Flight'),\n",
       "  Text(1.051541607942667, -0.5781524424970899, 'Road')],\n",
       " [Text(-0.37215033896012284, 0.5928778332944027, '67.8%'),\n",
       "  Text(0.04046483200416265, -0.6988294479848963, '16.2%'),\n",
       "  Text(0.6133992712998889, -0.33725559145663575, '16.0%')])"
      ]
     },
     "execution_count": 97,
     "metadata": {},
     "output_type": "execute_result"
    },
    {
     "data": {
      "image/png": "iVBORw0KGgoAAAANSUhEUgAAAO8AAADoCAYAAAAHdbMBAAAAOXRFWHRTb2Z0d2FyZQBNYXRwbG90bGliIHZlcnNpb24zLjMuMiwgaHR0cHM6Ly9tYXRwbG90bGliLm9yZy8vihELAAAACXBIWXMAAAsTAAALEwEAmpwYAAAuyklEQVR4nO29eXxU1f3//zx3ZjLJkGSyQCABISwxoMgiaOpW97pEEa22ttWidrO1H2uXX5tPW/tLW2vTurRarW0/0mrVultFoyi44Rq3IEG2AA4QIEAmyySzz9zz/eMOW0Ikk2TmzmTO8/HIg3DvnXteSeY159xz3uf9FlJKFApF+qGZLUChUAwOZV6FIk1R5lUo0hRlXoUiTVHmVSjSFGVehSJNUeZVKNIUZV6FIk1R5lUo0hRlXoUiTVHmVSjSFGVehSJNUeZVKNIUZV6FIk1R5lUo0hRlXoUiTVHmVSjSFGVehSJNUeZVKNIUZV6FIk2xmi1AcTDlNfVFQCkw7oB/xwFFgAPIAewYfzsLEAZ8vb56gF1AC7A99rXTVVcdSebPokgsQmWPNIfymvoJwEzgKGDGAf8WJqhJHcPEnwCrgabYv2tcddWBBLWpSCApb14hxC+ArwJRjDfgd4BHgflSyrZe1y4AjpJS1iVd6GdQXlNvAWYDJwEnSylPEkKMN1nWXqIYJn4DeB1Y4aqr3m2uJMVASGnzCiFOAG4HTpNSBoUQo4Es4G0OYd5Uorymvgy4UEp5IXCqECLXbE1xsB54DXgWWO6qqw6aK0dxKFLdvJcAV8cMcOBxF3A/cCFgAy6TUq4TQlyFYervCyHuAwLA0cBY4EdSyucSqbe8pn42cJHU9YsRYrYQQiSyvSTRA7wAPA3Uu+qqu8yVo9hLqps3F3gTY6JmOfColPL1mHlvk1L+RQjxPeBYKeU3D2HeccD5wFTgVWCalHJYn+/Ka+rHSimvQOrfFJpl+nDeOwUJAS8CizGMrCbATCSlZ5ullD1CiHnAKcDpwKNCiJrY6adi/34IXNLPLR6TUupAsxBiMzAdWDlUXeU19TbgAhmNfBvNcrYQwoKwDPW26UAWxmjnQmBneU39/cC9rrrqTebKykxS2rwAUsooxvPXa0KIJmBR7NTe57Ao/f8cvYcVQxpmlNfU58to+Lsgfigs1rHCkvK/vkRSCtQAPyuvqX8FuNVVV73UZE0ZRUq/+4QQlYAupWyOHZoDbAGOGeAtLhNC3A9MBqZgTMTETXlN/QQ9FKgRVtvVwmJzDOYeIxgBnAmcWV5TvxL4A/C4q646aqqqDCClzQvkAn8RQhQAEWAj8G3gggG+fj3G8sdY4Np4n3cn/X/PHCGj4VuEzX6plpWdEePiITIHeBj4XXlN/S3AP1111SFzJY1cUnrCaijEJqyek1I+Ee9rJ/74qSIZDtyqZedeKbTMHhsPkU+BG4H/uOqqR+YbzURUbPMBlNfU5xzxPw/VCc3SYnE4r1bGHTKTgQeBD8tr6k81W8xIY8T2vPEy4br7r9Ky827TbPYis7WMYJ4Cfuiqq95qtpCRQMabd/y3/l6pZec+ZBlVMM9sLRlCD/C/wN1qKD00Mta84664RbM4nH+wOsf+QFisNrP1ZCBvA9901VWvNVtIupKR5h37lZtnZ42Z9JTFUTDFbC0ZThC4Cfi9WlqKn4wyr6OiSuRXXfpL+7hpvxTWrCyz9Sj28QbwVVdddYvZQtKJjDFv8Xk/KMk+4qj/2oomnGi2FsUhcQOLXHXV9WYLSRcywrwlX7zxXPuEox+y5OSpmeTURgJ/AmpcddVhs8WkOiPavI6KKmvurHNuzJl87P8Kq01NSqUPbwMLXXXVe8wWksqMWPM6Kqpy8+cvfMg+ceaFQmgjYV9tprEZuEDNRvfPiDRv3rwLJ+TNPqc+q2TyLLO1KIZEJ3Cpq676ZbOFpCIjzrzOz106L29u9TNWZ0mq5IhSDI0I8D1XXfX/mS0k1Rgx5nVUVAlr0YTz8+dfdJ81r3i02XoUw06Nq676D2aLSCVGxMYER0WVsI2eeLnz+IsfUMYdsdSV19T/ymwRqUTa97yOiiphK5lyTf78BbdbcvLzzdajSDg3u+qqf2G2iFQgrXteR0WVZis+4tr84xb+WRk3Y/h5eU39rWaLSAXS1ryOiirNklv8nfzjLr7Zkp2bTjmRFUPnx+U19b82W4TZpOWw2VFRJbTsvCsLTrniFmv+mBKz9ShM41pXXfXfzRZhFmlnXkdFlRA2+4KCU66821ZYppaDMpsoxjrw02YLMYN0HDZ/3ll12e3KuAqMKokPl9fUn2y2EDNIK/M6Kqrm584+57assVPUPlzFXrKBJeU19VPNFpJs0sa8joqqydmTZv82Z+pxx5qtRZFyFAJPldfUZ1RO7bQwr6OiqsBaWHZj3pzzTlObDBT9MAv4h9kikknKm9dRUWUTdsf1zs9ddpGwZmWbrUeR0nytvKb+erNFJIuUNq+jokoAl+fPX3ilxeFUG+kVA+HWTJnASmnzAifmTD3uGvu4adPMFqJIG2zAA+U19XlmC0k0KWteR0XVWEtu8XdzZ55ZZbYWRdpRjpFOZ0STkkEajooqK1BTeOa3v20rGHdEstvXAz24X7iTUJuR2H/0+T/A88ESwu0tsfNetOxRlF39lz6v9bz/ND0fvwQCbGPKGX3+DQhrFh2v/Qv/5g/JKpnM6At+DEDP6lfQA93kz78oeT9cZnGhq676ObNFJIpUrcVz7qijz7jADOMCtL/8D7KnzGPMxT9HRsPIcJAxF/1s//lX7kWzj+rzukh3G54Pn6XsG39Fs9nZ83Qd3rUrcBx5AsHtaym75i72PHsLoT0urAWleFcvp+Sy3yTzR8s0/q+8pn6mq67abbaQRJByw2ZHRdUUS27xFY6Kz801o3096COw7RNyZ30BAGGxoWXv3/cgpcS37k1Gzfh8PzeIIiMhpB5FRoJYcosAgYxGkFIiIyGEZsHz3lPkzVtAhhfoTjTjgLvMFpEoUsq8joqqLODbefMunCssVlOSokc6W7E48nE//2d2/Ot63C/ciR7aX9Y32PIJllEF2Ir6Rmda80aTf/zFbL/nalruuhJhd5Az+Vg0uwNH5YnsvO96rM6xCPsoQjs34Kj4XDJ/tEzl8vKa+rPNFpEIUsq8wBn2I46ZkzV64pFmCZB6lFDrJvLmnk/Z1XcibHY87z6+77x3zev99rrRQA++5gbGX7uYCdf9GxkO0vPJqwA4qy6l7Oq/UHTGN+l640EKTrmC7o9fZM/TdXS+/UhSfrYM5q7ymvoRVyEjZczrqKgag8V6Wd6ss+ebqcOaNxpL3mjsZZWGrsqTCO3aBBjG9m14B8f0Q5s34FqJ1TkWi8OJsFj3PeseyN57WQvH4139CmMW1hDes4Vw+/YE/lQZz5HAD80WMdykhHljwRhfzp31hZladm6xmVosuYVY80cTdhszy4EtH2MbPdH43rUSW/EErPmHTpNlzR9DaMd69HAAKaXx2uKD59w633gQ58lfAz0CUjcOCg0ZCSbuh1IA/KK8pn6c2SKGk1SZLTlay8k/OWfSnNlmCwEoOuta2p67FRmNYC0YR/H5NwDgXbuiz5A50u3GvfROxl72a+xllTgqT2LnfTcgNI2ssVPJm33uvmt9G94ha1wF1jzj88leNp0di6/DVlJOVonaKJVg8jAqEn7TbCHDhenrvI6KKhvwu/zPXXZG9vgZqsC1IpFEgemuuuqNZgsZDlJh2Pw5S27xJHvpkSnR6ypGNBbgRrNFDBemmtdRUZUNfCl39hemCU0teCqSwtfKa+orzBYxHJjd855syRtdklUyVfW6imQxYnpf08zrqKjKARbmHn3GJKFpFrN0KDKSr5bX1JsWSzBcmNnznihs9vyssarXVSQdC/ADs0UMFVPMG9s1dMGoGaeOFVabyo6hMIOvl9fUp3WVDbN63plAQfYRM1UyOYVZ5AKLzBYxFJJu3lg01QXZk48t1LJzVUU/hZlcV15Tn7YJDc3oeScCU3OmzK80oW2F4kAqgbPMFjFYzDDvmVpOvrDml4yItTZF2pO24ZJJNa+josoBnOA48sQxanlIkSJcUF5T3zctShqQ7J73aMBiH1dxTJLbVSj6wwGkZRKxZJv3dGtBqdBGFZiSm0qh6IfLzRYwGJJmXkdFVSEw3VFRNVGItJ3gU4xMzimvqS80W0S8JLPnnQNgKz4i7cPSFCOOLGCh2SLiJZnmPVXLcQY0R4Gqq6tIRc4zW0C8JMW8jooqJzAxZ/LcEqHGzIrU5Mzymnqzd9nFRbLETgOwlUxWNYcUqUoRYGryw3hJlnmPBYJW51hlXkUq8wWzBcRDws3rqKiyAMdmjZtm0axZabkYrsgYlHl7cQRgzyqZMqLSbipGJJ8rr6m3my1ioCTDvOUA1oJSNcusSHVswCyzRQyUZJh3BuC35BZNSEJbCsVQSZtJq4SaN7Z3d4awO/xadu6YRLalUAwTaWPeRKdbLQBy7aWVQq3vKtKEtDFvoofNEwCsBaUlCW5HoRgujiqvqc8xW8RASLR5JwLSkltoavEwhSIOrMBUs0UMhESbdxLgt2TnKfMq0gllXoxhs0/Lzi1KcDsKxXCSFiUbE2ZeR0WVBpSgWYIiK7sgUe0oFAkgs82LMdOs2QrH5wuhpdVuDUXGk/HD5mJAt+QW5iawDYUiEZSbLWAgJHKdtwDQtOzctJh2VygOIC2KASSy53UAQrOPciSwDYUiEaRFPqtEP/NGRVaOMq8i3bCW19Sn/ONeos0b1rIcag+vIh1J+d43keYtBMLCmpU2+yMVigPIaPM6gTBCqGUiRTqS8rV7E2msbCAilHkV6Umid9wNmUQay7i32gqoSE9SvhBeIj9dNCAKqudNBFJKvGtff1z3eXrM1jKSkJHQuPzjFtYJi3WV2VoOR6LNG1E9b2KItLds9a1d4QXU73d42b1n+5q3fc0NEbOFHI5Em1fGvhTDTGi367fAerN1jEA86WBcSLx5kdFIOIFtZCR6yP/2nmfq7jVbh8JcEvk8GgGEjIZDCWwjIxGa9X/N1qAwn0SaNwhYZCQUTGAbGYceCjRuuXXhCrN1KMwnkeb1AxYZDvoT2EbGITTt52ZrUKQGiTSvF7DKkD+QwDYyCj0cWLPl1ouXmq1DkRok0rzdgDXq93QnsI0MQ9xotgJF6pBI83oAa7S7rSuBbWQMeji4SbPZ/2u2DkXqkEjz7gaywh07OhPYRgYha1111WrNXLGPRK7zdgK6DPnDMhLyCWuW2pQ/SPRIqEWzZf9nqPc55v5jRgOTh0GSoi87mhY1bU9mg4k2rwTQQ/5OizLv4NH137rqqvVhuJMAXsBIDqgYXmqBXyezwUSbVwDoQW+nxeEsS2BbIxYZCe3WsrL/OZR75M/NPxG4CsBZ5VxdcELBqcOhTXEQSY8kTPSElQBE1NuxO4HtjGikHv29q656qLG2n2J8ULu7GrpWhNvDrqErU/Ri5JjX19wQBdxAdqRjZ2ui2hnJyGi4XcvKuWeo9/E0enYCTwKlgO5+2f2sjMq0CL5PI0aOeWNsBnJDuz/dmeB2RiQyGr7NVVcdX3hprfO8fs4sA3YCRcHtwXbvBu/rQ9WnOIikx/An2rwbgJxI506PjIRUmGQcyGikW8ty/Hmg1y+otI11/zRvDrCEWmefAtGeRk8IWIyRm8niXu5+O9IT2TVcehUkPSlCos27g9iMc9TvUb1vHMhI6E5XXbVvINcuqLQVADcFo9yJ8Wz7f9Q6+0xGeho9GzF64DKi6B1vdDwrpVRrx8PDlmQ3mGjz7jNstNu9I8FtjRikHvFpdsctcbzkjIoirXhcrjg59v85wA/7ufZpjF4i17fetz2wJfDe4JUqDuDTZDeYaPN2AT4gK7T7U1eC2xoxyHDoH6666gGFlS6otOUB51491zZFOzjlUC21zj6lKj2NHi/wL6AEEG0vtb2iB3XPsAjPUKSUYSCpARqQYPP6mhskxnNvfmBb01ap69FEtjcSkHo0qNkdN8XxklMnOYVzxmjtmF7HHcDf+nnNx8B7QKnu00Nd73XVD0arwkAI0dK0qCnp7+1kZHZsBBwy5A9HfZ0tSWgvrZHhwH2uumr3QK5dUGlzANVXz82aatEOmaXzbGqdV/Y+6Gn0SOA/GPMR2Z4PPRuCu4JrhiQ8s0n6kBmSY97Ne7+JdOzY/FkXZjpS18OafVQ8IXYnleaKglljtdmfcc3t1Dr7lKz0NHraMQxcCuB+yf2CHtHV3uvB4TKj0WSYtxVjY35WqHWjKZ9Q6YIM+x921VUPaFZ+QaUtG7jo6rm2KVZNfFaY62jg9n7OvYnxWDMm7A739DT1LItPsSLGyOx5fc0NOsYzVmFg2+oWGQkNaPkj05BSj2r2Ub+K4yUnjHaIonmlljkDuPZKap1n9T7oafREgfuAHMDW8XrHR+HOcNKXPEYALjMaTVY1g1VANlKX4Y4da5PUZlohQ4H/uuqqB2ScBZW2LGDh1XNs5TaLyBpgE3+j1pnT+6Cn0bMdeAYoA2h/uf1ZqUs1sRgfLjMaTZZ512NMjohgy5pPktRm2iCllMJmjyex3HynneLjx1vmxvGaqRjb1g7FUozkCQWBbQG3r9n3Rhz3VYzUYTOAr7mhC8PAhf5PP3KpofPByJD/+S1/XNA8kGsXVNqswBevmpM1yW4V2XE29SNqnXN6H/Q0eoLAPzFq0mru5e43o97onjjvnZFIKd0YkYRJJ5lFwFYAuWrofDCxXrcmjpfMddgoOWmi5dhBNLc3dLLP393T6FkPvAKMl2EZ7Xiz41kVOXl4hBCvNS1qMuUXlUzz7l1HFIFtq1cnsd2URob8r27544IB/T4WVNoswBe/Ptt2RLZVDDYzyXzg+n7OPYkRETfKu9a7LdgS/GCQbWQSr5rVcNLMe+DQOfDpRy496B1QIMJIR1iz4ul1Z9ktlJ1Wbh1Mr3sgN1HrnNT7oKfR04Mx+zwWEG1L25brQV2l7v1sXjGr4WTXzn0NyAMI7tiQ8Z/qesj/zpZbLnp/INcuqLRpwCVfPcY23mETeUNsehTw137OfQR8CIyLeqNBz4eeF4bY1j5aFrew9n/W0vyLgx/v3cvcbKjZQPPPm2l99NB5G7pXdbOhZgMbfrqBPc/tfxxvfayV5l820/KP/cF7HW910PZS23DJ7hcpZWvToibTHgGTbd5VGDWMbN51K1ZKPZrR2RyEJa6CYUdZNSaeNWXIve5ezqfW+eXeB2Ohkw9hpDCyd73XtTa0O7RuOBosPLmQ8h+XH3SsZ20PnkYP0347jYqbKxh9Xp9gMKQu2fHADsp/VM60m6fR1dBFYHuAqC+Kb6OPipsqkLoksC2AHtLpfLOT4jMSn2NPCGFarwtJNq+vucGP0fuO1X1dgXD79oxdNtJDgcYttywcUDaLBZU2AVzypaNtpXl2UTCMMu6g1lnY+6Cn0dMGPEIsdLJtWdvzMiKHXDBuVOUoLKMsBx1rf6WdMdVj0GzGW9Ga3zdYzL/Zj32snaySLDSrhrPKSXdjNwiQEYmUEhmWCIug7YU2is8uRliTUnM8c8wb4w3AAuDf/MGAhowjkTgLhlVqginnThu2XncvY4H+9g2/jhGXPia8J9zds6bn5WFuG4BQawjvBi+bfrOJzb/fjG9z31XEcEcYW5Ft3/+thVbCHWEsORby5+ez6VebsI22oTk0/Jv95B+bnwiphyLjzLsDaAaKgttWb4/0tGdcOJ4eDqwdaMGwWK+78OLp1nEF2SIRY8FvUOs8rffBA0InHYC1/dX2DyJdkWHfFSZ1SdQbZcqNUxj35XFs++s2+ixRfcZCzJjzxzDtt9Mo/Uopu5/aTcklJbS/3s7Wu7eye0nikpZKKbc0LWoyNVY/6eaN7fFdSmziyt/8bgbWmo2rYNgUAdMvrLTOSZQa4O/UOvsEfHgaPVuBZ4EyJNL9qnuJ1OVwJH/fh63QRv68fIQQOKY4QEC0++DoTFuRjXD7/uSMkY4ItkLbQdf4txgp0uzj7HS+1cnE6yYSbAkSbE1MeWizn3fBnJ4XjIkrN5Dr3/zB5qi3I2P2+erh4GbNZn8qjpcsOL/CWlKUo41NmCg4EvhlP+eex/hbOQOuwB7fJt+bw9lw/rH5eNd6AQi2BpFRiSXv4OfinMk5BHcFCe0JoUd0uhq6yJt78IT77qd2U3JxCTIiYe/HiwZ6aFg/aw5keaJuPFBMMa+vuSGCERBQDODb+F4GpSEdeMGwBZW2ScDshdOtsxIsCuCn1DqP7n3Q0+gJYIROFgGa+yX3iqgvOqg1+m33bGPzTZsJtgZZ98N1tL/eTsHnCwjtCdH8i2a23bONCd+cgBCCcEcY1+0uAIRFUHZFGa5bXTT/bzP5x+WTPX7/QMHzoYecyTnYCm1YRlnImZZD8y+N5aiciX32YgwZqUsvxmYOUxFmhcA5KqpswB+BCOAtPu8H3xrpJVH0SKhFs2ZNGmjdoQWVtuvOmmI57/oqe3WitcV4BziZ2q4++vLn5n8DOAFoyZ2ZO6nozKKrDk6ZlTnIqFy8+prV3zRbh1nDZnzNDWHgKYzN4vjWv5WQ2cyUQuo3xWHc8cD8S4+yzUywqgM5AfhuP+cex1ijd/Ss7tkS3B5sTJ6s1EJYRH8BLknFNPPGaMCoaTTKv/mDzeHOXetN1pMwZCS0W7NlL47jJeeePNFSVJan9QljTDA3U+sc3/ugp9HjAe7HWF6i7cW2l/SQ7k2yNtPRI/onTYuaPjJbB5hsXl9zQwh4FCMNKT0fL31ppGaYjKdg2IJK21jg5Mtn2vo8gyaBfODufs69j5EVZVy0OxrwfDR8oZPpgtBEf7+bpGN2zwtG7+sCisNtW9pDuzY2mKxn2JHRcEecBcPOmVeqFUx0alMTJuqzuYha5yW9D8ZCJx/E2FqY1fVu1yehttCA9iGPBKQuA0ITD5mtYy+mmzdWTfBBjE980f1R/Qo9EhpRwzEZDd860IJhCyptxcCpV8zKmp5gWYfjL9Q6nb0Peho9u4HHiKXNcS9z18uoTHqRLTOQunyiaVFTyiSoN928AL7mhmaMmc5SPdAd9G987yWzNQ0XsYJhd8TxkrNmlmjOKYXCbPOWAXX9nHsF2AqMDu0KdfWs7TFtT2sy0axaygyZIUXMG+NJDD1Z3k9eWRXp2r3RbEHDQaxg2IBGErGCYWcvmm2bniLLMN+h1nlS74OeRk8EY+03F7C0v9zeEPFERnQtKhmRzU2Lmt41W8eBpIx5fc0NezAMXAbg+eCZZ2U0kpjYtiQxyIJh+RXF2lEJExUfAvgHtc4+GSo9jR4XUA+MRyLbX2sf9tDJlELrdxLPNFLGvDGWY5RKHB3p3Onxb3p/QMH7qcogCoadc/Vc25FainS7MY4C+sv28RzQAeT7N/t3+V3+d5InK3nIiOwQmrjXbB29SSnzxgI3FmNkerD1NC1bma5rv4MsGFZwiIJhqcDPqXX2eQb3NHr8GBUHiwHhftH9WtQf7Ui6ugSjh/Q/NC1qSrlJ1JQyL4CvuWErxvB5AoDn3cee0UOBlJnhGygyHLx/GAuGmY0dY/h8qBHBJxhlU8r0oB7perfrueRKSyx6SHdbHJY/ma3jUKTiGwWMLYObgJKot8PfvfL5x9IpeEPqekSzO2rjeMlACoaZzSnAt3ofjK39PgaEgZzuj7s3B3YEPk62uEShh/RfNy1qSsmlsJQ0b2zX0d8x9I0Kblu9PeBqTJvlIxkOJKJgWCrwB2qd43of9DR6ujDW6scBuF90v6iH9bRPrK8H9e3WXOtnxjELIaJCiJVCiNVCiGeFGJ40RUKInsNdk5LmBfA1N+wC7sEInbR0N9a/lw45r6TUdc3uiGez/QnFOaJwgAXDzKYAuLOfc+9iDKHHRboi/u6V3S8mTVWC0IP6DQMomu2XUs6RUs4E2oHrkiANSGHzAviaGz4GlgATATrffmRJNNCduNwmw8CgCobNjatgmNlcRq3zwt4HPY0eHfg3YAOyOt/qXBV2hzclXd0wEemJfLD2f9Y+EefL3gHGAwgh5ggh3hVCrBJC/FcIURg7/i0hxPtCiI+FEE8KYSTPF0JMFkK8Ezv324E0ltLmjfEMRrWFUhn0hrreeuQhPRxIyUTgsdIl8aRzne+0U1w1flClS8zkbmqdfXJHexo9rcAT7A2dXO5+TkZluPd1qY7UpS7D8hvxvEYIYQHOxOhswPgg+5mUchbQBPz/seNPSSmPk1LOBtYCe9u5A7hHSnkcRk3rw5Ly5o09//4DowxHUaRzp8fz/jMPyWgk5SYRBlMwbNGcrImDKBhmNkcAv+vn3HKgBSgK7gx2etd7X0uaqmEi4ok8su6GdasGeHmOEGIlRqqgImCZEMIJFEgp92aIuR/4fOz7mUKIN4QQTcDXgL07x04CHo59/8BAGk558wL4mhs6MKq7ZwN5oZ3rd/U0LXtUSj1lInoG0evOddgoOXmiZV7CRCWW66h1VvU+6Gn0hDFCJ52Axb3c/U6kOzKgniQV0IO6R1jF9+N4iV9KOQeYBGRx+Gfe+4DvSymPAX6N8Z7eS1xpbdLCvAC+5oZtwJ8wPt2y/Zve3+zb8M6SVKlkJ0P+17b8cUHTQK6NFQy79MpZtglDKBhmNhpGxUFb7xOeRs9mjOW+8ejIjhUdS2Sq/KE+AymlDLYGv7P2urVxB5pIKbswCrj9BGOU2CGEOCV2+kqMPNhgZE3dKYSwYfS8e3kLuDz2/YHH+yVtzAvga25YizGELgOs3tUvf+zf/EF9KrwvBlEwrPS0cmu69rp7OQbjzXoongG6gDxfs29nwBVI+X3awZbgcxt/tfGRwb5eStmIkazgcmARcIsQYhUwB/hN7LIbMfawLwMOLCPzA+A6IcT7GKOWw2JaArqh4Kioqga+jBEHHc2dfe78nKnHVZsVEqyH/O9svf3SEwdybaxg2K+vmmM78ZIZtjMSLC0ZBIBjqO3qswssf27+LODHgEvL0axli8q+Z8m2FCRb4EAId4W3d77ZWdn6WGvKhUH2R1r1vAfwPPBfjOcMS8/HSz/wb3rvObM+iITFGk/pkqOsGhPPHr6CYWaTjRFQcyiaMNZ/y3S/Hu5q6KpPnqyBo4f1kH+T/7J0Mi6kqXljVReeZr+BrT0fv/ihf2ND0qu5xwqGvTaQa2OlSy5OQMEwszmDWudVvQ/GQicfAaJATndj98ZgazDlCqv7P/XXbbljS9rtiEpL88JBBn4KI4jD2rPqpY+8a19/PJmlQwdRMGxqvAXDrnnGT8kt3cz868ERc39pCFF5Vw9H/7WHny4L9Hndti6d0+/3MuNu45o73t2/PfpnywLMuqeHr//Xv+/YAx+HDromTm6j1jmm90FPo6cDo2ToOIC2F9uW6mHd3/s6swi2Bt9te77t12brGAxpa17YZ+Bn2G9gm2/tijXdHz77bxkJJTy2NlkFw66aY2PpFQdPSr/6aYRn1odZde0oPvleLj85sW+AllWD276Qzdrrcnn3G6O4+/0wa/ZE6QpI3m6Jsuq7uUSlpGlXFH9Yct/HYb533KADvYqAP/dz7i2MyZmSSEfE29PUs2ywjQwnEW+kw7vBe3EsOiztSGvzwkEGfgBjG6EjsHXVts63Hl6sB33tiW09voJhwPQLjoy/YNjnJ1kpyjl4Mu6eD0LUnGzHHqtDWzKq75+yNE/j2FKj7k+eXTBjjMZ2j0QTEIoadW39YbBZ4Ja3Q1x/fBY2y5Am/b5KrfPc3gdj5rgfY2uhrWNFR2O4I+waSkNDRUal7t/sv3r74u1pswbdm7Q3LxgG9jU3LMMIMSsCnOG2Le0dr/1zcbSnY1si2hxMwbDqCmtJsWN4CoZtcOu8sSVC1b09nHqfl/e3f3b8vKtTp3FnlKoJFvLsgi/OsDH3714mF2g47YL3d0S5aHqfJdvBcA+1zj5r155Gzw6MOQojdPJl97MyKpP2eNMb3ybf3a5bXabXGxoKI8K8e/E1N3wE3IwRHD8m2tPucy+/575ga3MCEoeZWzAsokNHAN79xihuOTubLz3h61vXNkZPSPLFx3z8+dxs8u1Gz/rTk+ysvDaX287J5sZXg/zmNDv3fhTiS4/7uGnFkFKHlbN/TbM3L2HE7RYGW4LtvmafKeVde9b0vND2fNuPzGh7OBlR5gXwNTdsBn6LUUZlAtGI7Hrr4Rd7Vr/yqIyGhyWhnR4JtWi27HiSb19w5mRL8dhcrU8ZkcEyIV9wyQwrQgiOH29BE9Dm62vecNQw7teOsXHJjL49a+NOo8c+sljj3x+HeewyB6t3R2l2Dyn3wQ3UOvtMynkaPSH2h05q7uXutyI9kaTuEvOu8za4X3J/PZYBM60ZceaFfXuBbwI+ACYDWb71b67rfOPBv0d9ngFtkv9M9GjcBcMuO9o2rLmpFk638cqnxvtvgztKKAqjHQc/r0op+caSADNGW/jRCfZD3ufGV4P85nQ7YR2iMe9rAnxD2wtkwQidtPQ+4Wn0NGNsXhgvI1LvfLPz2WSFTvo2+Va1LW27xNPoaUtGe4lmRJoXwNfc4MUIHvgXxjJFYdi9raN92V8XB3dueHuwbxgZCe3WsnLiKhh20hGWwqEUDPvKkz5OWOxlvVtnwu3dLP4oxDVzbWzukMz8aw+XP+Hn/oU5CCHY0a1z/kPGRPtb26I8sCrMK59GmPO3Hub8rYfnm/e78ul1YY4rs1CWp1GQLThhgoVj7ulBCJg9ro/v4uVY4If9nHsa8AK53nXelsDWwPtDbexw+Lf4N+x5fs9FsWfvEUFahkfGi6OiajLwfYzh2nZA2o+YOT5v1hcWatm5o+O5lx7y/2jr7ZcOKCFZrGDY7+86P/vzJtYdMhMfMJPark97n8ifmz8Xw9yfag7NNn7R+Os0u5afCBGBHQHXniV7zut8p3Pd4a9OH0Zsz3sgvuaGT4FajCp35UBucNvq7e4X7/pbcMe6Nwe6tTBWMCye2qznzCvVCjPUuAAOjFRGh2Il8B5Qqvv0UNf7Xc8nQkBod2hH2wttF48040KGmBfA19zQjbEj6U8Y+y4nyEhIdr3z2MuehifvjXo7Ww53DxmN3JaGBcPM5hxqnX22uMVCJx/G2MOa7fnAsz64O7h2OBsOuUO725a2faljRcfK4bxvqpAx5oV968ErgV9gBMxPAvKD29fudC+9c7F37RtP6iH/ISscGAXDcv4cR3NnzSzRClKgYFgq8CdqnX2iyjyNHjeGgUsB3C+6n9cjet84z0EQ2h3a6X7Jvcj9svut4bhfKpJR5t1LrBdeDNwK6BhDabt3zaur3Uv/cldg2+pXpR45aL5VRkJ3xVsw7OuzbUemVuUS0xgD3NbPuTeAZmBM2B3u6Vnds3yojfk2+ta1PtF6TdvStrQul3M4MtK8sK8XbsLohR/GiMyaIMMB6XnvqRXtL997Z2jXpvekHo3GCob9IY7bn15RpOUfWayZUdk+VVlErfPM3gc9jZ4oRmoYB2DteK3jw3BneOtgGpC61Lsaut7d89yeH8qQTPvUs4cjI2abB4KjoqoAWACcjrHBfDcgLLnFRzqrLl3S8rdr/jOQ+8QKht36uzPsxx8zNi1yMSeTTRgb9/vsKsqfm78QuAjYkj0xe3TJwpJrhSYGvF6lh/RA+8vty73rvb/wNHoGmjwurcnYnrc3vuaGTl9zw7+BX2HsgJkEHBntcb88UOPGOHWiUxQcNUYbtlDIEcRUjN/voXgB4wOzILA10Obb6HtzoDeNdEc6dj216wHveu93M8W4oMzbB19zwzZfc8MdGEtL9ezPw3tY9hUMm5OyBcNSgZ9Q6+zzweZp9AQxQicLAc29zP1G1Bs9bCRUsDXY0vpI659CraGfeBo9h10xGEmoN1g/+JobXL7mhgdioZYD5aRxucI5e1xKFwwzGytG6GSf956n0bMeeBUok2EZ7Xir4zMzo3jXeT9pfaz1l1FvtM7T6Em7SpJDRZl3mNhbMOya9CgYZjbHY0S8HYonMeYcRnnXeLcGW4If9r5AD+n+9tfbX2tb2nY9Ov+O5YrOOJR5h48TinNEwbxSy1yzhaQJv6PWeUTvg55GTzfGxv2xgGh7sW2ZHtL35f8J7Ahs2vngzse6G7uv8zR6XokFe2QkyrzDwAEFwyanUcEws8kF+gs1/QD4CBgX7YkGPR96XtBDuq/9tfbXdz22676IJ1LjafSsSZ7U1EQtFQ0DCyptJzrtfO/eBTlfTMO6Q2bzZWq7Hut9MH9u/hiMxAptgFNzaLm6T38QeGUk7MUdDlTPO0RiBcMuSdOCYanAHdQ6C3of9DR69mCkjZ0MbNd9+s88jZ6XlHH3oyZWhs5ch42xaVwwzGzGAbcA3zrEudcxtnA2xyKxFAeghs1DIFYw7ObvzLMdX32k7TSz9aQxEjiN2i5TclqlK2rYPDRmZVkYNwIKhpmNwOh9FXGgzDtIYgXDLvnqMbYJo7JEnyrxioHTHZTPYMQ1K+JAPfMOnpFWMCzptPtl270fhVa9uTX60JL14bRNfm4WyryDYG/BsMuOGnEFw5JCICJ9yzdHVv2rMfxJWOdxjJBIRZwo8w6OSk0w9bwKq4qmioOekOx69dNI40NN4e2+MO8Ajy5ZHx4RaVjNQJk3TmK97kWzxmrZo2wkJNvhSKPdL3e/uDGy8vE14daITivwb2DNkvVhtdQxBNRSUZwsqLRNBW4EXCWjRPYVs2zzjx9vqXLYRK7Z2lKN1h592zPrIk3PN0f2SHBh5GtuWrI+rNZshwFl3jhZUGk7HvgeEAZ2AZEcK5avHmObdWq59cSCbBFXHuiRyJZOfeNjn4Q/eWNrtBP4BHgWWK962uFFmXcQLKi0lQJnAadirFHuBoIAJx1hKT19suXoGaMtR2fSZFZXQLavbYuue25DZOeqXXo3Ro7s54EtyrSJQZl3CMSyRJ4CnI9RezYAuIEowMkTLWWnlVuOGqlGbvfru9bs0dcu2xRxNbbqEiNS6nVg2ZL14aHXhFJ8Jsq8w0BsI/4M4ASMGj0ahzSy9egZo7Wj0tXIUkr2+OT21bv1tUs3Rraua9MFxshjD7ACeHvJ+nCCC5or9qLMO8wsqLTlANOBE4G5HMLIp0y0lFVNsEw7Il8rGzNKlOZmiZSdtfaFZfdur2xduye66YWNkRZXp9yb0XEHhmFXAzvV0Dj5KPMmkEMY2QL4ge7YvwCU5QnH/DJLWUWRVjohXysdmyvKcrOEM5ladSn1rgDu3V69tcUjW5vb9dbGndFdO3ukHWPjvAA2A29iTELtUYY1F2XeJBHLLDkdY1hdCRRjPCNqHMLQpbnCMa/MUlpRpJUWO0SBw0ZOtlXkZFvJtltEjt1KTpZFHLrobj+EozIciOANRKTPH8HX7pcdW7v01nVteutHO6PtvjA57Dfq3jfGBuAtjHVZNSROIZR5TWJBpW0URo2e8cCRQAUwmoMN7cNYkooQG3IfiE1DGzNKZI92iJzCbJFTkC1yNIHwRwgHIjIciBDxhWW4OyhDu7zS7wsTid17b2+ag1HuRWDMlm/GMOs2oBWjd1Wb31MUZd4UItY7lwJlGIaeiGGyXIzKhvKALzBMt/dLZ/8usQOvOfBaDeNDoB2jekEzsBPDqJ1qGJxeKPOmCbF0O9kYvWXvLwf7l6rCB3xF2N+D7/0KKpOODJR5FYo0RW3GzyCEEFEhxMoDvsqFEKcJIZ6LnV8ghKg5zD32XX+IczcIIRyJ0K7oi9pVlFn4pZRzDjwghCjf+72Ucglx1GY6BDcAD2IMzxUJRvW8in0IIa4SQtwV+36qEOJdIcT7QojfCCF6Drg0VwjxhBBinRDiIWFwPcZE26tCCLW5Pgko82YWOQcMmf97mGvvAO6QUh6HEU11IHMxetmjgCnASVLKO2PXnS6lPH2YdSsOgTJvZuGXUs6JfV18mGtPAB6Pfd+7PvF7UsoWKaUOrATKh1emYiAo8yoGQ/CA76OouRNTUOZV9Me7wBdj318+wNd0AyoNbpJQ5lX0xw3Aj4QQ72FEfXUN4DX/AF5QE1bJQQVpKA5JbL3WL6WUQojLga9IKVVi9BRCPaso+mMecJcQQgCdwDXmylH0RvW8CkWaop55FYo0RZlXoUhTlHkVijRFmVehSFOUeRWKNEWZV6FIU/4fIfd5c4AR2WoAAAAASUVORK5CYII=\n",
      "text/plain": [
       "<Figure size 432x288 with 1 Axes>"
      ]
     },
     "metadata": {},
     "output_type": "display_data"
    }
   ],
   "source": [
    "# 운송수단의 비율\n",
    "\n",
    "plt.pie(shipment.values, labels = shipment.index, autopct='%.1f%%', explode = [0.1,0.1,0.1], shadow=True)"
   ]
  },
  {
   "cell_type": "code",
   "execution_count": 90,
   "metadata": {
    "scrolled": false
   },
   "outputs": [
    {
     "name": "stderr",
     "output_type": "stream",
     "text": [
      "C:\\Users\\bjw97\\anaconda3\\lib\\site-packages\\seaborn\\_decorators.py:36: FutureWarning: Pass the following variable as a keyword arg: x. From version 0.12, the only valid positional argument will be `data`, and passing other arguments without an explicit keyword will result in an error or misinterpretation.\n",
      "  warnings.warn(\n"
     ]
    },
    {
     "data": {
      "text/plain": [
       "<AxesSubplot:xlabel='Mode_of_Shipment', ylabel='count'>"
      ]
     },
     "execution_count": 90,
     "metadata": {},
     "output_type": "execute_result"
    },
    {
     "data": {
      "image/png": "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\n",
      "text/plain": [
       "<Figure size 432x288 with 1 Axes>"
      ]
     },
     "metadata": {
      "needs_background": "light"
     },
     "output_type": "display_data"
    }
   ],
   "source": [
    "sns.countplot('Mode_of_Shipment', hue = 'Reached.on.Time_Y.N', data = data )"
   ]
  },
  {
   "cell_type": "code",
   "execution_count": 106,
   "metadata": {},
   "outputs": [],
   "source": [
    "on_time = data[data['Reached.on.Time_Y.N'] == 0].groupby('Mode_of_Shipment').count()['Reached.on.Time_Y.N']"
   ]
  },
  {
   "cell_type": "code",
   "execution_count": 107,
   "metadata": {},
   "outputs": [],
   "source": [
    "not_on_time = data[data['Reached.on.Time_Y.N'] == 1].groupby('Mode_of_Shipment').count()['Reached.on.Time_Y.N']"
   ]
  },
  {
   "cell_type": "code",
   "execution_count": 108,
   "metadata": {},
   "outputs": [
    {
     "name": "stdout",
     "output_type": "stream",
     "text": [
      "Flight not on time:  0.6015756893640968\n",
      "Ship not on time:  0.5975609756097561\n",
      "Road not on time:  0.5880681818181818\n"
     ]
    }
   ],
   "source": [
    "# 제때 도착하지 못한 비율\n",
    "\n",
    "print('Flight not on time: ',  not_on_time['Flight'] / (not_on_time['Flight'] + on_time['Flight']))\n",
    "print('Ship not on time: ',  not_on_time['Ship'] / (not_on_time['Ship'] + on_time['Ship']))\n",
    "print('Road not on time: ',  not_on_time['Road'] / (not_on_time['Road'] + on_time['Road']))"
   ]
  },
  {
   "cell_type": "code",
   "execution_count": 109,
   "metadata": {},
   "outputs": [
    {
     "name": "stdout",
     "output_type": "stream",
     "text": [
      "Flight on time:  0.3984243106359032\n",
      "Ship on time:  0.4024390243902439\n",
      "Road on time:  0.4119318181818182\n"
     ]
    }
   ],
   "source": [
    "#제때 도착한 비율\n",
    "\n",
    "print('Flight on time: ',  on_time['Flight'] / (not_on_time['Flight'] + on_time['Flight']))\n",
    "print('Ship on time: ',  on_time['Ship'] / (not_on_time['Ship'] + on_time['Ship']))\n",
    "print('Road on time: ',  on_time['Road'] / (not_on_time['Road'] + on_time['Road']))"
   ]
  },
  {
   "cell_type": "markdown",
   "metadata": {},
   "source": [
    "**40% 정도의 물건들은 제 때 도착하지만, 60%의 물건은 제때 도착하지 못했다.** "
   ]
  },
  {
   "cell_type": "markdown",
   "metadata": {},
   "source": [
    "----------------------------"
   ]
  },
  {
   "cell_type": "markdown",
   "metadata": {},
   "source": [
    "## Discount_offered 와 Reached_on_time"
   ]
  },
  {
   "cell_type": "markdown",
   "metadata": {},
   "source": [
    "- Discount offered: Discount offered on that specific product."
   ]
  },
  {
   "cell_type": "markdown",
   "metadata": {},
   "source": [
    "correlation을 봤을 때 0.4 라는 수치가 나왔고 연관성이 있다고 판단하여 진행하였습니다."
   ]
  },
  {
   "cell_type": "code",
   "execution_count": 110,
   "metadata": {},
   "outputs": [
    {
     "data": {
      "text/plain": [
       "0        44\n",
       "1        59\n",
       "2        48\n",
       "3        10\n",
       "4        46\n",
       "         ..\n",
       "10994     1\n",
       "10995     6\n",
       "10996     4\n",
       "10997     2\n",
       "10998     6\n",
       "Name: Discount_offered, Length: 10999, dtype: int64"
      ]
     },
     "execution_count": 110,
     "metadata": {},
     "output_type": "execute_result"
    }
   ],
   "source": [
    "data['Discount_offered']"
   ]
  },
  {
   "cell_type": "markdown",
   "metadata": {},
   "source": [
    "할인율이라고 생각하고 데이터 분석을 진행하였습니다."
   ]
  },
  {
   "cell_type": "markdown",
   "metadata": {},
   "source": [
    "1. 할인율이 높을수록 제 때에 도착할까?"
   ]
  },
  {
   "cell_type": "code",
   "execution_count": 113,
   "metadata": {},
   "outputs": [
    {
     "data": {
      "text/plain": [
       "<AxesSubplot:xlabel='Reached.on.Time_Y.N', ylabel='Discount_offered'>"
      ]
     },
     "execution_count": 113,
     "metadata": {},
     "output_type": "execute_result"
    },
    {
     "data": {
      "image/png": "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\n",
      "text/plain": [
       "<Figure size 432x288 with 1 Axes>"
      ]
     },
     "metadata": {
      "needs_background": "light"
     },
     "output_type": "display_data"
    }
   ],
   "source": [
    "sns.boxplot(data = data, x = 'Reached.on.Time_Y.N', y = 'Discount_offered' )"
   ]
  },
  {
   "cell_type": "code",
   "execution_count": 115,
   "metadata": {},
   "outputs": [
    {
     "data": {
      "text/plain": [
       "Reached.on.Time_Y.N\n",
       "0     5.545987\n",
       "1    18.663721\n",
       "Name: Discount_offered, dtype: float64"
      ]
     },
     "execution_count": 115,
     "metadata": {},
     "output_type": "execute_result"
    }
   ],
   "source": [
    "data.groupby('Reached.on.Time_Y.N').mean()['Discount_offered']"
   ]
  },
  {
   "cell_type": "markdown",
   "metadata": {},
   "source": [
    "1 :   6563\n",
    "---\n",
    "0 :  4436\n",
    "---\n",
    "\n",
    "가설검정을 할 필요가 없을 것이라고 판단\n",
    " - 1(제때 도착하지 않음) : 할인율이 높은편이다.\n",
    " - 0(제때 도착) : 할인율 낮은편이다.\n",
    "\n",
    "즉, 할인율이 낮을수록 제때 도착함\n",
    " \n"
   ]
  },
  {
   "cell_type": "markdown",
   "metadata": {},
   "source": [
    "-------------------------"
   ]
  },
  {
   "cell_type": "markdown",
   "metadata": {},
   "source": [
    "----------"
   ]
  },
  {
   "cell_type": "markdown",
   "metadata": {},
   "source": [
    "## Discount_offered 와 성별"
   ]
  },
  {
   "cell_type": "code",
   "execution_count": 119,
   "metadata": {
    "scrolled": true
   },
   "outputs": [
    {
     "data": {
      "text/plain": [
       "<AxesSubplot:xlabel='Gender', ylabel='Discount_offered'>"
      ]
     },
     "execution_count": 119,
     "metadata": {},
     "output_type": "execute_result"
    },
    {
     "data": {
      "image/png": "iVBORw0KGgoAAAANSUhEUgAAAX8AAAEGCAYAAACNaZVuAAAAOXRFWHRTb2Z0d2FyZQBNYXRwbG90bGliIHZlcnNpb24zLjMuMiwgaHR0cHM6Ly9tYXRwbG90bGliLm9yZy8vihELAAAACXBIWXMAAAsTAAALEwEAmpwYAAAUJElEQVR4nO3df7BfdX3n8eeLgBARlMglm42NEcPSWhdEb2st7BZl7VjrCGrJkJHdoOxkx3Ej7I9ZQ3em+8Mdl22rI5vtbJsKkiKloF0WsCraKLo6DnqDDIKgZBBoYkqiKL8LEt/7x/fccm/Ij/tN7vmee3Oej5nvfL+fc+45553Myet+8vme8zmpKiRJ/XJY1wVIkkbP8JekHjL8JamHDH9J6iHDX5J66PCuC5ip448/vpYvX951GZI0r2zevPlHVTW2+/J5E/7Lly9nYmKi6zIkaV5J8sCeljvsI0k9ZPhLUg8Z/pLUQ4a/JPXQvPnCV7Nn5cqV7NixgyVLlnDNNdd0XY70984//3y2bt3K8uXLufLKK7su55Bmz7+HduzYAcD27ds7rkSabuvWrQDcf//93RbSA4Z/z6xcuXJae9WqVR1VIk13/vnnT2tfcMEF3RTSE4Z/z0z2+ifZ+9dcMdnrn2Tvv12GvyT1kOEvST1k+EtSDxn+ktRDhr8k9ZDhL0k9ZPhLUg8Z/pLUQ4a/JPWQ4S9JPWT4S1IPGf6S1EOGvyT1UOvhn+QlST6d5J4kdyd5Q5JFSb6Y5N7m/bi265AkPWcUPf/LgM9X1S8CpwJ3A+uATVV1ErCpaUuSRqTV8E9yLPBPgcsBquqZqvopcDawsfmxjcA5bdYhSZqu7Z7/icBO4BNJvp3k40mOBhZX1XaA5v2EPW2cZE2SiSQTO3fubLlUSeqPtsP/cOC1wP+uqtOAJxhiiKeqNlTVeFWNj42NtVWjJPVO2+G/FdhaVbc27U8z+GXwUJIlAM37jr1sL0lqQavhX1V/C/xNkpObRWcB3wVuBFY3y1YDN7RZhyRpusNHcIy1wNVJXgDcB7yHwS+d65JcCDwInDuCOiRJjdbDv6puB8b3sOqsto8tSdoz7/CVpB4y/CWphwx/Seohw1+Sesjwl6QeMvwlqYcMf0nqIcNfknrI8JekHjL8JamHDH9J6iHDX5J6yPCXpB4y/CWphwx/Seohw1+Sesjwl6QeMvwlqYcMf0nqIcNfknrI8JekHjq87QMkuR94DNgFPFtV40kWAdcCy4H7gZVV9ZO2a5EkDYyq5//GqnpNVY037XXApqo6CdjUtCVJI9LVsM/ZwMbm80bgnI7qkKReGkX4F/CFJJuTrGmWLa6q7QDN+wkjqEOS1Gh9zB84vap+mOQE4ItJ7pnphs0vizUAy5Yta6s+Seqd1nv+VfXD5n0HcD3wq8BDSZYANO879rLthqoar6rxsbGxtkuVpN5oNfyTHJ3kmMnPwG8CdwI3AqubH1sN3NBmHZKk6doe9lkMXJ9k8lh/XlWfT/It4LokFwIPAue2XIckaYpWw7+q7gNO3cPyHwNntXlsSdLeeYevJPWQ4S9JPWT4S1IPGf6S1EOGvyT1kOEvST1k+EtSDxn+ktRD+73JK8l3GMzMuUdVdcqsViRJat1M7vB9W/P+/ub9qub93cCTs16RJKl1+w3/qnoAIMnpVXX6lFXrknwd+K9tFSdJascwY/5HJzljspHk14GjZ78kSVLbhpnY7ULgiiQvZvAdwCPAe1upSpLUqhmHf1VtBk5NciyQqnqkvbIkSW2a8bBPksVJLgeurapHkryqmY9fkjTPDDPmfyVwM/APm/b3gYtnuR5J0ggME/7HV9V1wM8BqupZYFcrVUmSWjVM+D+R5KU0N3wl+TUGX/pKkuaZYa72+bcMHrz+yub6/jHgd1qpSpLUqhmFf5IFwG80r5OBAN+rqp+1WJskqSUzGvapql3A2VX1bFXdVVV3GvySNH8NM+zz9ST/C7gWeGJyYVXdNutVSZJaNUz4/3rzPnUunwLetL8Nm2GjCWBbVb0tySIGv0SWA/cDK6vqJ0PUIkk6CMPc4fvGgzjORcDdwLFNex2wqaouTbKuaX/wIPYvSRrC0Hf4Jvlc057RHb5JXgb8NvDxKYvPBjY2nzcC58y4YknSQRvFHb4fA/4Dzc1hjcVVtR2geT9hTxsmWZNkIsnEzp07hyhVkrQvrd7hm+RtwI5mUrihVdWGqhqvqvGxsbED2YUkaQ+G+cL3QO7wPR14e5K3AkcBxyb5JPBQkiVVtT3JEmDHAdQuSTpAw/T8d7/D98+AtfvaoKouqaqXVdVy4DzgS1V1frOf1c2PrQZuGLZwSdKBm8kD3M+tqk8BP2H27vC9FLiu+cL4QeDcA9yPJOkAzGTY5xLgU8BfVtVrgbsO5EBVdQtwS/P5x8BZB7IfSdLBm0n4P5zky8Arkty4+8qqevvslyVJatNMwv+twGuBq4CPtFuOJGkUZhL+l1fVP0/yp1X1ldYrkiS1biZX+7wuycuBdyc5Lsmiqa+2C5Qkzb6Z9Pz/GPg8cCKwmcGVPpOqWS5Jmkf22/Ovqv9ZVb8EXFFVJ1bVK6a8DH5JmoeGmdXzfUlOBf5Js+irVXVHO2VJkto0zKyeHwCuZjAJ2wnA1Un2eYevJGluGmZun38JvL6qngBI8j+AbwDr2yhMktSeYeb2CdNn8dzF9C9/JUnzxDA9/08Atya5vmmfA1w+6xVJklo3zBe+H01yC3AGgx7/e6rq25Prkxznc3glaX4YpudPVd0G3LaX1ZsYTAMhSZrjhhnz3x/H/yVpnpjN8K9Z3JckqUWzGf6SpHnCYR9J6qFh7vC9aj/LfDKXJM0Tw/T8f3lqI8kC4HWT7ap6eLaKkiS1a7/hn+SSJI8BpyR5tHk9BuwAbmi9QknSrJvJlM7/vaqOAf6gqo5tXsdU1Uur6pIR1ChJmmXD3OF7SZKlwMunbldVX22jMElSe2Yc/kkuBc4DvstzE7wVsNfwT3JUs/7I5lifrqr/1Dz+8VpgOXA/sNKpISRpdIaZ3uEdwMlV9fQQ2zwNvKmqHk9yBPC1JJ8D3glsqqpLk6wD1gEfHGK/kqSDMMzVPvcBRwyz8xp4vGke0bwKOBvY2CzfyGCGUEnSiAzT838SuD3JJgY9egCq6gP72qi5JHQzsAL4o6q6NcniqtrebL89yQl72XYNsAZg2bJlQ5QqSdqXYcL/xuY1lKraBbwmyUuA65O8eohtNwAbAMbHx507SJJmyTBX+2zc/0/tc/ufNs8DeAvwUJIlTa9/CYN7BiRJIzLM9A4/SHLf7q/9bDPW9PhJshD4Z8A9DP4Hsbr5sdV4s5gkjdQwwz7jUz4fBZwLLNrPNkuAjc24/2HAdVX1mSTfAK5LciHwYLMvSdKIDDPs8+PdFn0sydeA39vHNncAp+1lX04EJ0kdGeYmr6mPaDyMwf8Ejpn1iiRJrRtm2OcjUz4/S3Nn7qxWI0kaiWGGfd7YZiGSpNEZ5mqfFyf5aJKJ5vWRJC9uszhJUjuGmd7hCuAxBkM9K4FHgU+0UZQkqV3DjPm/sqreNaX9X5LcPsv1SJJGYJie/1NJzphsJDkdeGr2S5IktW2Ynv/7GNywNTnO/xPgglmvSJLUumGu9rkdODXJsU370baKkiS1a5irfT6c5CVV9WhVPZrkuCT/rc3iJEntGGbM/7eq6qeTjeaxi2+d9YokSa0bJvwXJDlystHM0nnkPn5ekjRHDfOF7yeBTUk+weBRjO/luUcxSpLmkWG+8P39JHcwmJM/wIeq6ubWKpMktWaYWT2PBr5QVZ9PcjJwcpIjqupn7ZUnSWrDMGP+XwWOSrIU+GvgPcCVbRQlSWrXMOGfqnoSeCewvqreAbyqnbIkSW0aKvyTvAF4N/BXzbJhvjCWJM0Rw4T/xcAlwPVVdVeSE4Evt1KVJKlVw1zt8xXgK1Pa9wEfaKMoSVK79hv+ST5WVRcnuYnB9f3TVNXbW6lMktSamfT8r2re/7DNQiRJo7Pf8K+qzc37V5KMNZ93zmTnSX4B+DPgHwA/BzZU1WVJFgHXAstpHgTfzBUkSRqB/X7hm4H/nORHwD3A95PsTPJ7M9j/s8C/q6pfAn4NeH+SVwHrgE1VdRKwqWlLkkZkJlf7XAycDvxKVb20qo4DXg+cnuTf7GvDqtpeVbc1nx8D7gaWAmfz3LxAG4FzDqh6SdIBmUn4/wtgVVX9YHJBc6XP+c26GUmyHDgNuBVYXFXbm31tB07YyzZrkkwkmdi5c0YjTZKkGZhJ+B9RVT/afWEz7n/ETA6S5EXAXwIXD/MEsKraUFXjVTU+NjY2080kSfsxk6t9njnAdQAkOYJB8F9dVf+nWfxQkiVVtT3JEmDHDOqY99avX8+WLVu6LuN5Lrrook6Ou2LFCtauXdvJsTWd5+Z0fTg3Z9LzPzXJo3t4PQb8431tmCTA5cDdVfXRKatuBFY3n1cDNxxI8Rreqaeeus+21BXPzdFK1fPu25q9nSdnAP8P+A6DSz0BfpfBuP91wDLgQeDcqnp4X/saHx+viYmJ1mrtkzPPPBOAJHz5y87Qoblj8tw85phjuOmmm7ot5hCRZHNVje++vNWJ2arqawwe/LInZ7V5bO3dZI/qsssu67gSaTrPzdEZZmI3SdIhwvCXpB4y/CWphwx/Seohw1+Sesjwl6QeMvwlqYcMf0nqIcNfknrI8JekHjL8JamHDH9J6iHDX5J6yPCXpB4y/CWphwx/Seohw1+Sesjwl6QeMvwlqYcMf0nqIcNfknrI8JekHmo1/JNckWRHkjunLFuU5ItJ7m3ej2uzBknS87Xd878SeMtuy9YBm6rqJGBT05YkjVCqqt0DJMuBz1TVq5v294Azq2p7kiXALVV18v72Mz4+XhMTEwdcx/r169myZcsBb38omfx7WLFiRceVzA0rVqxg7dq1nR3fc/M5npvTzca5mWRzVY3vvvzwg9rrgVlcVdsBml8AJ+ztB5OsAdYALFu27KAOumXLFm6/8252vXDRQe3nUHDYM4Nf+Jvve6jjSrq34MmHuy6BLVu2cO9d32bZi3Z1XUrnXvCzwWDE0w8ceEfvUPHg4wta3X8X4T9jVbUB2ACDnv/B7m/XCxfx1C++9aDr0qFj4T2f7boEAJa9aBe/+9pHuy5Dc8iHbzu21f13cbXPQ81wD837jg5qkKRe6yL8bwRWN59XAzd0UIMk9Vrbl3peA3wDODnJ1iQXApcCb05yL/Dmpi1JGqFWx/yratVeVp3V5nElSfvmHb6S1EOGvyT10Jy+1HM2bdu2jQVPPjJnLu3T3LDgyR+zbduzndawbds2nnhsQeuX9ml+eeCxBRy9bVtr+7fnL0k91Jue/9KlS/nbpw/3Ji9Ns/Cez7J06eJOa1i6dClPP7vdm7w0zYdvO5Yjly5tbf/2/CWphwx/Seohw1+Sesjwl6QeMvwlqYcMf0nqIcNfknqoN9f5w+CpTd7hC4f93eB68p8f5R2lgyd5dXudPwye2uQdvvDQk4P+6OIX/rzjSrr34OMLOKnF/fcm/H0m6HO2bHkMgBUndh963Vvc+bnR9fHnkmeaZ/ge+XL/Tk6i3XOj9Qe4z5aDfYC7nnPRRRcBcNlll3VciTSd5+bs29sD3B3zl6QeMvwlqYcMf0nqIcNfknrI8JekHjL8JamHvNRzhNavX8+W5jrmLk3W0PX15StWrGDt2rWd1qABz83pDqVzc85d6pnkLUm+l2RLknVd1dFHCxcuZOHChV2XIT2P5+bodNLzT7IA+D7wZmAr8C1gVVV9d2/bHAo9f0katbnW8/9VYEtV3VdVzwB/AZzdUS2S1Dtdhf9S4G+mtLc2y6ZJsibJRJKJnTt3jqw4STrUdRX+2cOy540/VdWGqhqvqvGxsbERlCVJ/dBV+G8FfmFK+2XADzuqRZJ6p6vw/xZwUpJXJHkBcB5wY0e1SFLvdDKff1U9m+RfAzcDC4ArququLmqRpD7q7GEuVfVZwMdqSVIHnN5Bknpo3kzvkGQn8EDXdRxCjgd+1HUR0h54bs6ul1fV8y6XnDfhr9mVZGJPd/1JXfPcHA2HfSSphwx/Seohw7+/NnRdgLQXnpsj4Ji/JPWQPX9J6iHDX5J6yPDvmSS7ktw+5bW865qkJJXkqintw5PsTPKZLus6lHU2vYM681RVvabrIqTdPAG8OsnCqnqKwVP+tnVc0yHNnr+kueJzwG83n1cB13RYyyHP8O+fhVOGfK7vuhhpir8AzktyFHAKcGvH9RzSHPbpH4d9NCdV1R3Nd1CrcMbf1hn+kuaSG4E/BM4EXtptKYc2w1/SXHIF8EhVfSfJmR3Xckgz/CXNGVW1Fbis6zr6wOkdJKmHvNpHknrI8JekHjL8JamHDH9J6iHDX5J6yPBXryVZnOTPk9yXZHOSbyR5xyzs90xnpNRcZvirt5IE+L/AV6vqxKp6HXAe8LIOavGeG42U4a8+exPwTFX98eSCqnqgqtYnWZDkD5J8K8kdSf4V/H2P/pYkn05yT5Krm18iJHlLs+xrwDsn95nk6CRXNPv6dpKzm+UXJPlUkpuAL4z0T67es7ehPvtl4La9rLuQwTQDv5LkSODrSSYD+rRm2x8CXwdOTzIB/CmDXyhbgGun7Os/Al+qqvcmeQnwzSR/3ax7A3BKVT08i38uab8Mf6mR5I+AM4BngAeAU5L8TrP6xcBJzbpvNtMQkOR2YDnwOPCDqrq3Wf5JYE2z7W8Cb0/y75v2UcCy5vMXDX51wfBXn90FvGuyUVXvT3I8MAE8CKytqpunbtBMNvb0lEW7eO7f0d7mSgnwrqr63m77ej2DJ1hJI+eYv/rsS8BRSd43ZdkLm/ebgfclOQIgyT9KcvQ+9nUP8Iokr2zaq6asuxlYO+W7gdNmpXrpIBj+6q0azGp4DvAbSX6Q5JvARuCDwMeB7wK3JbkT+BP28T/lqvo7BsM8f9V84fvAlNUfAo4A7mj29aEW/jjSUJzVU5J6yJ6/JPWQ4S9JPWT4S1IPGf6S1EOGvyT1kOEvST1k+EtSD/1/yKG/O78dFWYAAAAASUVORK5CYII=\n",
      "text/plain": [
       "<Figure size 432x288 with 1 Axes>"
      ]
     },
     "metadata": {
      "needs_background": "light"
     },
     "output_type": "display_data"
    }
   ],
   "source": [
    "sns.boxplot(data = data, x = 'Gender', y = 'Discount_offered' )"
   ]
  },
  {
   "cell_type": "code",
   "execution_count": 123,
   "metadata": {},
   "outputs": [
    {
     "data": {
      "text/html": [
       "<div>\n",
       "<style scoped>\n",
       "    .dataframe tbody tr th:only-of-type {\n",
       "        vertical-align: middle;\n",
       "    }\n",
       "\n",
       "    .dataframe tbody tr th {\n",
       "        vertical-align: top;\n",
       "    }\n",
       "\n",
       "    .dataframe thead th {\n",
       "        text-align: right;\n",
       "    }\n",
       "</style>\n",
       "<table border=\"1\" class=\"dataframe\">\n",
       "  <thead>\n",
       "    <tr style=\"text-align: right;\">\n",
       "      <th></th>\n",
       "      <th>ID</th>\n",
       "      <th>Customer_care_calls</th>\n",
       "      <th>Customer_rating</th>\n",
       "      <th>Cost_of_the_Product</th>\n",
       "      <th>Prior_purchases</th>\n",
       "      <th>Discount_offered</th>\n",
       "      <th>Weight_in_gms</th>\n",
       "      <th>Reached.on.Time_Y.N</th>\n",
       "    </tr>\n",
       "    <tr>\n",
       "      <th>Gender</th>\n",
       "      <th></th>\n",
       "      <th></th>\n",
       "      <th></th>\n",
       "      <th></th>\n",
       "      <th></th>\n",
       "      <th></th>\n",
       "      <th></th>\n",
       "      <th></th>\n",
       "    </tr>\n",
       "  </thead>\n",
       "  <tbody>\n",
       "    <tr>\n",
       "      <th>F</th>\n",
       "      <td>5505.336339</td>\n",
       "      <td>4.051578</td>\n",
       "      <td>2.986655</td>\n",
       "      <td>209.255005</td>\n",
       "      <td>3.581785</td>\n",
       "      <td>13.562489</td>\n",
       "      <td>3628.222362</td>\n",
       "      <td>0.594409</td>\n",
       "    </tr>\n",
       "    <tr>\n",
       "      <th>M</th>\n",
       "      <td>5494.574624</td>\n",
       "      <td>4.057389</td>\n",
       "      <td>2.994499</td>\n",
       "      <td>211.154382</td>\n",
       "      <td>3.553172</td>\n",
       "      <td>13.180785</td>\n",
       "      <td>3639.907774</td>\n",
       "      <td>0.599010</td>\n",
       "    </tr>\n",
       "  </tbody>\n",
       "</table>\n",
       "</div>"
      ],
      "text/plain": [
       "                 ID  Customer_care_calls  Customer_rating  \\\n",
       "Gender                                                      \n",
       "F       5505.336339             4.051578         2.986655   \n",
       "M       5494.574624             4.057389         2.994499   \n",
       "\n",
       "        Cost_of_the_Product  Prior_purchases  Discount_offered  Weight_in_gms  \\\n",
       "Gender                                                                          \n",
       "F                209.255005         3.581785         13.562489    3628.222362   \n",
       "M                211.154382         3.553172         13.180785    3639.907774   \n",
       "\n",
       "        Reached.on.Time_Y.N  \n",
       "Gender                       \n",
       "F                  0.594409  \n",
       "M                  0.599010  "
      ]
     },
     "execution_count": 123,
     "metadata": {},
     "output_type": "execute_result"
    }
   ],
   "source": [
    "data.groupby('Gender').mean()"
   ]
  },
  {
   "cell_type": "markdown",
   "metadata": {},
   "source": [
    "분포와 평균을 살펴봤을 때, 둘의 유의미한 차이가 있다고 보기 어려움"
   ]
  },
  {
   "cell_type": "code",
   "execution_count": null,
   "metadata": {},
   "outputs": [],
   "source": []
  }
 ],
 "metadata": {
  "kernelspec": {
   "display_name": "Python 3",
   "language": "python",
   "name": "python3"
  },
  "language_info": {
   "codemirror_mode": {
    "name": "ipython",
    "version": 3
   },
   "file_extension": ".py",
   "mimetype": "text/x-python",
   "name": "python",
   "nbconvert_exporter": "python",
   "pygments_lexer": "ipython3",
   "version": "3.8.5"
  }
 },
 "nbformat": 4,
 "nbformat_minor": 5
}
