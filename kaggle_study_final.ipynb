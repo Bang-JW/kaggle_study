{
  "nbformat": 4,
  "nbformat_minor": 0,
  "metadata": {
    "colab": {
      "name": "kaggle_study_final.ipynb",
      "provenance": [],
      "collapsed_sections": [
        "2ZvI_b81T7Ql",
        "7nXGtJD4Uw-a"
      ],
      "mount_file_id": "1AE_-ryyWEQxAy8nMZer-YwNIjmLGedUa",
      "authorship_tag": "ABX9TyP5FepZfBI5gNsawl3i7Z44",
      "include_colab_link": true
    },
    "kernelspec": {
      "name": "python3",
      "display_name": "Python 3"
    },
    "language_info": {
      "name": "python"
    }
  },
  "cells": [
    {
      "cell_type": "markdown",
      "metadata": {
        "id": "view-in-github",
        "colab_type": "text"
      },
      "source": [
        "<a href=\"https://colab.research.google.com/github/Bang-JW/kaggle_study/blob/main/kaggle_study_final.ipynb\" target=\"_parent\"><img src=\"https://colab.research.google.com/assets/colab-badge.svg\" alt=\"Open In Colab\"/></a>"
      ]
    },
    {
      "cell_type": "markdown",
      "source": [
        "# Part1. E-commerce Data EDA\n",
        "\n",
        "\n",
        " - Customer care calls : 배송조회 문의전화 건수"
      ],
      "metadata": {
        "id": "6ZOj_7ptPYck"
      }
    },
    {
      "cell_type": "code",
      "source": [
        "! pip install category_encoders"
      ],
      "metadata": {
        "colab": {
          "base_uri": "https://localhost:8080/"
        },
        "id": "inqYpb85Qqmg",
        "outputId": "f4d8e9e2-a1af-4f5b-da50-991d114cba7e"
      },
      "execution_count": 1,
      "outputs": [
        {
          "output_type": "stream",
          "name": "stdout",
          "text": [
            "Collecting category_encoders\n",
            "  Downloading category_encoders-2.4.1-py2.py3-none-any.whl (80 kB)\n",
            "\u001b[?25l\r\u001b[K     |████                            | 10 kB 22.7 MB/s eta 0:00:01\r\u001b[K     |████████                        | 20 kB 23.8 MB/s eta 0:00:01\r\u001b[K     |████████████▏                   | 30 kB 27.9 MB/s eta 0:00:01\r\u001b[K     |████████████████▏               | 40 kB 32.4 MB/s eta 0:00:01\r\u001b[K     |████████████████████▎           | 51 kB 24.8 MB/s eta 0:00:01\r\u001b[K     |████████████████████████▎       | 61 kB 27.8 MB/s eta 0:00:01\r\u001b[K     |████████████████████████████▍   | 71 kB 28.8 MB/s eta 0:00:01\r\u001b[K     |████████████████████████████████| 80 kB 9.4 MB/s \n",
            "\u001b[?25hRequirement already satisfied: patsy>=0.5.1 in /usr/local/lib/python3.7/dist-packages (from category_encoders) (0.5.2)\n",
            "Requirement already satisfied: scikit-learn>=0.20.0 in /usr/local/lib/python3.7/dist-packages (from category_encoders) (1.0.2)\n",
            "Requirement already satisfied: pandas>=0.21.1 in /usr/local/lib/python3.7/dist-packages (from category_encoders) (1.3.5)\n",
            "Requirement already satisfied: statsmodels>=0.9.0 in /usr/local/lib/python3.7/dist-packages (from category_encoders) (0.10.2)\n",
            "Requirement already satisfied: numpy>=1.14.0 in /usr/local/lib/python3.7/dist-packages (from category_encoders) (1.21.6)\n",
            "Requirement already satisfied: scipy>=1.0.0 in /usr/local/lib/python3.7/dist-packages (from category_encoders) (1.4.1)\n",
            "Requirement already satisfied: pytz>=2017.3 in /usr/local/lib/python3.7/dist-packages (from pandas>=0.21.1->category_encoders) (2022.1)\n",
            "Requirement already satisfied: python-dateutil>=2.7.3 in /usr/local/lib/python3.7/dist-packages (from pandas>=0.21.1->category_encoders) (2.8.2)\n",
            "Requirement already satisfied: six in /usr/local/lib/python3.7/dist-packages (from patsy>=0.5.1->category_encoders) (1.15.0)\n",
            "Requirement already satisfied: threadpoolctl>=2.0.0 in /usr/local/lib/python3.7/dist-packages (from scikit-learn>=0.20.0->category_encoders) (3.1.0)\n",
            "Requirement already satisfied: joblib>=0.11 in /usr/local/lib/python3.7/dist-packages (from scikit-learn>=0.20.0->category_encoders) (1.1.0)\n",
            "Installing collected packages: category-encoders\n",
            "Successfully installed category-encoders-2.4.1\n"
          ]
        }
      ]
    },
    {
      "cell_type": "code",
      "execution_count": 2,
      "metadata": {
        "id": "YNe_F8ayPP0v",
        "outputId": "d5626d08-1578-474b-aaa4-1e76d981f17c",
        "colab": {
          "base_uri": "https://localhost:8080/"
        }
      },
      "outputs": [
        {
          "output_type": "stream",
          "name": "stderr",
          "text": [
            "/usr/local/lib/python3.7/dist-packages/statsmodels/tools/_testing.py:19: FutureWarning: pandas.util.testing is deprecated. Use the functions in the public API at pandas.testing instead.\n",
            "  import pandas.util.testing as tm\n"
          ]
        }
      ],
      "source": [
        "import pandas as pd\n",
        "import numpy as np\n",
        "import matplotlib.pyplot as plt\n",
        "import seaborn as sns\n",
        "\n",
        "from scipy import stats\n",
        "\n",
        "from sklearn.pipeline import make_pipeline\n",
        "from category_encoders import OneHotEncoder, OrdinalEncoder\n",
        "from sklearn.model_selection import train_test_split\n",
        "from sklearn.linear_model import LogisticRegression\n",
        "from sklearn.ensemble import RandomForestClassifier\n",
        "from sklearn.metrics import accuracy_score, f1_score"
      ]
    },
    {
      "cell_type": "code",
      "source": [
        "# 분석과 관련없는 ID 컬럼을 Index로 설정\n",
        "\n",
        "data = pd.read_csv(\"/content/drive/MyDrive/Colab Notebooks/Kaggle_Study/data.csv\")\n",
        "data = data.set_index('ID')"
      ],
      "metadata": {
        "id": "sPIo0Pt8QVI7"
      },
      "execution_count": 3,
      "outputs": []
    },
    {
      "cell_type": "code",
      "source": [
        "data.head(5)"
      ],
      "metadata": {
        "colab": {
          "base_uri": "https://localhost:8080/",
          "height": 299
        },
        "id": "-bl6mJx7RSEM",
        "outputId": "1b6a388a-7ac2-4c9d-fe77-0ba2e1dc1ca5"
      },
      "execution_count": 4,
      "outputs": [
        {
          "output_type": "execute_result",
          "data": {
            "text/plain": [
              "   Warehouse_block Mode_of_Shipment  Customer_care_calls  Customer_rating  \\\n",
              "ID                                                                          \n",
              "1                D           Flight                    4                2   \n",
              "2                F           Flight                    4                5   \n",
              "3                A           Flight                    2                2   \n",
              "4                B           Flight                    3                3   \n",
              "5                C           Flight                    2                2   \n",
              "\n",
              "    Cost_of_the_Product  Prior_purchases Product_importance Gender  \\\n",
              "ID                                                                   \n",
              "1                   177                3                low      F   \n",
              "2                   216                2                low      M   \n",
              "3                   183                4                low      M   \n",
              "4                   176                4             medium      M   \n",
              "5                   184                3             medium      F   \n",
              "\n",
              "    Discount_offered  Weight_in_gms  Reached.on.Time_Y.N  \n",
              "ID                                                        \n",
              "1                 44           1233                    1  \n",
              "2                 59           3088                    1  \n",
              "3                 48           3374                    1  \n",
              "4                 10           1177                    1  \n",
              "5                 46           2484                    1  "
            ],
            "text/html": [
              "\n",
              "  <div id=\"df-f1b7ddb0-0ea8-47e9-b1cd-03d2310100ca\">\n",
              "    <div class=\"colab-df-container\">\n",
              "      <div>\n",
              "<style scoped>\n",
              "    .dataframe tbody tr th:only-of-type {\n",
              "        vertical-align: middle;\n",
              "    }\n",
              "\n",
              "    .dataframe tbody tr th {\n",
              "        vertical-align: top;\n",
              "    }\n",
              "\n",
              "    .dataframe thead th {\n",
              "        text-align: right;\n",
              "    }\n",
              "</style>\n",
              "<table border=\"1\" class=\"dataframe\">\n",
              "  <thead>\n",
              "    <tr style=\"text-align: right;\">\n",
              "      <th></th>\n",
              "      <th>Warehouse_block</th>\n",
              "      <th>Mode_of_Shipment</th>\n",
              "      <th>Customer_care_calls</th>\n",
              "      <th>Customer_rating</th>\n",
              "      <th>Cost_of_the_Product</th>\n",
              "      <th>Prior_purchases</th>\n",
              "      <th>Product_importance</th>\n",
              "      <th>Gender</th>\n",
              "      <th>Discount_offered</th>\n",
              "      <th>Weight_in_gms</th>\n",
              "      <th>Reached.on.Time_Y.N</th>\n",
              "    </tr>\n",
              "    <tr>\n",
              "      <th>ID</th>\n",
              "      <th></th>\n",
              "      <th></th>\n",
              "      <th></th>\n",
              "      <th></th>\n",
              "      <th></th>\n",
              "      <th></th>\n",
              "      <th></th>\n",
              "      <th></th>\n",
              "      <th></th>\n",
              "      <th></th>\n",
              "      <th></th>\n",
              "    </tr>\n",
              "  </thead>\n",
              "  <tbody>\n",
              "    <tr>\n",
              "      <th>1</th>\n",
              "      <td>D</td>\n",
              "      <td>Flight</td>\n",
              "      <td>4</td>\n",
              "      <td>2</td>\n",
              "      <td>177</td>\n",
              "      <td>3</td>\n",
              "      <td>low</td>\n",
              "      <td>F</td>\n",
              "      <td>44</td>\n",
              "      <td>1233</td>\n",
              "      <td>1</td>\n",
              "    </tr>\n",
              "    <tr>\n",
              "      <th>2</th>\n",
              "      <td>F</td>\n",
              "      <td>Flight</td>\n",
              "      <td>4</td>\n",
              "      <td>5</td>\n",
              "      <td>216</td>\n",
              "      <td>2</td>\n",
              "      <td>low</td>\n",
              "      <td>M</td>\n",
              "      <td>59</td>\n",
              "      <td>3088</td>\n",
              "      <td>1</td>\n",
              "    </tr>\n",
              "    <tr>\n",
              "      <th>3</th>\n",
              "      <td>A</td>\n",
              "      <td>Flight</td>\n",
              "      <td>2</td>\n",
              "      <td>2</td>\n",
              "      <td>183</td>\n",
              "      <td>4</td>\n",
              "      <td>low</td>\n",
              "      <td>M</td>\n",
              "      <td>48</td>\n",
              "      <td>3374</td>\n",
              "      <td>1</td>\n",
              "    </tr>\n",
              "    <tr>\n",
              "      <th>4</th>\n",
              "      <td>B</td>\n",
              "      <td>Flight</td>\n",
              "      <td>3</td>\n",
              "      <td>3</td>\n",
              "      <td>176</td>\n",
              "      <td>4</td>\n",
              "      <td>medium</td>\n",
              "      <td>M</td>\n",
              "      <td>10</td>\n",
              "      <td>1177</td>\n",
              "      <td>1</td>\n",
              "    </tr>\n",
              "    <tr>\n",
              "      <th>5</th>\n",
              "      <td>C</td>\n",
              "      <td>Flight</td>\n",
              "      <td>2</td>\n",
              "      <td>2</td>\n",
              "      <td>184</td>\n",
              "      <td>3</td>\n",
              "      <td>medium</td>\n",
              "      <td>F</td>\n",
              "      <td>46</td>\n",
              "      <td>2484</td>\n",
              "      <td>1</td>\n",
              "    </tr>\n",
              "  </tbody>\n",
              "</table>\n",
              "</div>\n",
              "      <button class=\"colab-df-convert\" onclick=\"convertToInteractive('df-f1b7ddb0-0ea8-47e9-b1cd-03d2310100ca')\"\n",
              "              title=\"Convert this dataframe to an interactive table.\"\n",
              "              style=\"display:none;\">\n",
              "        \n",
              "  <svg xmlns=\"http://www.w3.org/2000/svg\" height=\"24px\"viewBox=\"0 0 24 24\"\n",
              "       width=\"24px\">\n",
              "    <path d=\"M0 0h24v24H0V0z\" fill=\"none\"/>\n",
              "    <path d=\"M18.56 5.44l.94 2.06.94-2.06 2.06-.94-2.06-.94-.94-2.06-.94 2.06-2.06.94zm-11 1L8.5 8.5l.94-2.06 2.06-.94-2.06-.94L8.5 2.5l-.94 2.06-2.06.94zm10 10l.94 2.06.94-2.06 2.06-.94-2.06-.94-.94-2.06-.94 2.06-2.06.94z\"/><path d=\"M17.41 7.96l-1.37-1.37c-.4-.4-.92-.59-1.43-.59-.52 0-1.04.2-1.43.59L10.3 9.45l-7.72 7.72c-.78.78-.78 2.05 0 2.83L4 21.41c.39.39.9.59 1.41.59.51 0 1.02-.2 1.41-.59l7.78-7.78 2.81-2.81c.8-.78.8-2.07 0-2.86zM5.41 20L4 18.59l7.72-7.72 1.47 1.35L5.41 20z\"/>\n",
              "  </svg>\n",
              "      </button>\n",
              "      \n",
              "  <style>\n",
              "    .colab-df-container {\n",
              "      display:flex;\n",
              "      flex-wrap:wrap;\n",
              "      gap: 12px;\n",
              "    }\n",
              "\n",
              "    .colab-df-convert {\n",
              "      background-color: #E8F0FE;\n",
              "      border: none;\n",
              "      border-radius: 50%;\n",
              "      cursor: pointer;\n",
              "      display: none;\n",
              "      fill: #1967D2;\n",
              "      height: 32px;\n",
              "      padding: 0 0 0 0;\n",
              "      width: 32px;\n",
              "    }\n",
              "\n",
              "    .colab-df-convert:hover {\n",
              "      background-color: #E2EBFA;\n",
              "      box-shadow: 0px 1px 2px rgba(60, 64, 67, 0.3), 0px 1px 3px 1px rgba(60, 64, 67, 0.15);\n",
              "      fill: #174EA6;\n",
              "    }\n",
              "\n",
              "    [theme=dark] .colab-df-convert {\n",
              "      background-color: #3B4455;\n",
              "      fill: #D2E3FC;\n",
              "    }\n",
              "\n",
              "    [theme=dark] .colab-df-convert:hover {\n",
              "      background-color: #434B5C;\n",
              "      box-shadow: 0px 1px 3px 1px rgba(0, 0, 0, 0.15);\n",
              "      filter: drop-shadow(0px 1px 2px rgba(0, 0, 0, 0.3));\n",
              "      fill: #FFFFFF;\n",
              "    }\n",
              "  </style>\n",
              "\n",
              "      <script>\n",
              "        const buttonEl =\n",
              "          document.querySelector('#df-f1b7ddb0-0ea8-47e9-b1cd-03d2310100ca button.colab-df-convert');\n",
              "        buttonEl.style.display =\n",
              "          google.colab.kernel.accessAllowed ? 'block' : 'none';\n",
              "\n",
              "        async function convertToInteractive(key) {\n",
              "          const element = document.querySelector('#df-f1b7ddb0-0ea8-47e9-b1cd-03d2310100ca');\n",
              "          const dataTable =\n",
              "            await google.colab.kernel.invokeFunction('convertToInteractive',\n",
              "                                                     [key], {});\n",
              "          if (!dataTable) return;\n",
              "\n",
              "          const docLinkHtml = 'Like what you see? Visit the ' +\n",
              "            '<a target=\"_blank\" href=https://colab.research.google.com/notebooks/data_table.ipynb>data table notebook</a>'\n",
              "            + ' to learn more about interactive tables.';\n",
              "          element.innerHTML = '';\n",
              "          dataTable['output_type'] = 'display_data';\n",
              "          await google.colab.output.renderOutput(dataTable, element);\n",
              "          const docLink = document.createElement('div');\n",
              "          docLink.innerHTML = docLinkHtml;\n",
              "          element.appendChild(docLink);\n",
              "        }\n",
              "      </script>\n",
              "    </div>\n",
              "  </div>\n",
              "  "
            ]
          },
          "metadata": {},
          "execution_count": 4
        }
      ]
    },
    {
      "cell_type": "code",
      "source": [
        "plt.figure(figsize=(10,10))\n",
        "sns.heatmap(data.corr(), annot=True)"
      ],
      "metadata": {
        "colab": {
          "base_uri": "https://localhost:8080/",
          "height": 710
        },
        "id": "fj33088XRTnj",
        "outputId": "8a78318c-60a5-457c-8b6f-fc8b67b19ab4"
      },
      "execution_count": 5,
      "outputs": [
        {
          "output_type": "execute_result",
          "data": {
            "text/plain": [
              "<matplotlib.axes._subplots.AxesSubplot at 0x7f6d3e0eb690>"
            ]
          },
          "metadata": {},
          "execution_count": 5
        },
        {
          "output_type": "display_data",
          "data": {
            "text/plain": [
              "<Figure size 720x720 with 2 Axes>"
            ],
            "image/png": "[encoded data removed]"
          },
          "metadata": {
            "needs_background": "light"
          }
        }
      ]
    },
    {
      "cell_type": "code",
      "source": [
        "corr_df = data.corr()"
      ],
      "metadata": {
        "id": "lRM5xGNqR4yL"
      },
      "execution_count": 6,
      "outputs": []
    },
    {
      "cell_type": "code",
      "source": [
        "np.abs(corr_df)"
      ],
      "metadata": {
        "colab": {
          "base_uri": "https://localhost:8080/",
          "height": 330
        },
        "id": "p8cx51pOVm4r",
        "outputId": "681381b7-60c8-422b-b142-0c425b3d51cd"
      },
      "execution_count": 7,
      "outputs": [
        {
          "output_type": "execute_result",
          "data": {
            "text/plain": [
              "                     Customer_care_calls  Customer_rating  \\\n",
              "Customer_care_calls             1.000000         0.012209   \n",
              "Customer_rating                 0.012209         1.000000   \n",
              "Cost_of_the_Product             0.323182         0.009270   \n",
              "Prior_purchases                 0.180771         0.013179   \n",
              "Discount_offered                0.130750         0.003124   \n",
              "Weight_in_gms                   0.276615         0.001897   \n",
              "Reached.on.Time_Y.N             0.067126         0.013119   \n",
              "\n",
              "                     Cost_of_the_Product  Prior_purchases  Discount_offered  \\\n",
              "Customer_care_calls             0.323182         0.180771          0.130750   \n",
              "Customer_rating                 0.009270         0.013179          0.003124   \n",
              "Cost_of_the_Product             1.000000         0.123676          0.138312   \n",
              "Prior_purchases                 0.123676         1.000000          0.082769   \n",
              "Discount_offered                0.138312         0.082769          1.000000   \n",
              "Weight_in_gms                   0.132604         0.168213          0.376067   \n",
              "Reached.on.Time_Y.N             0.073587         0.055515          0.397108   \n",
              "\n",
              "                     Weight_in_gms  Reached.on.Time_Y.N  \n",
              "Customer_care_calls       0.276615             0.067126  \n",
              "Customer_rating           0.001897             0.013119  \n",
              "Cost_of_the_Product       0.132604             0.073587  \n",
              "Prior_purchases           0.168213             0.055515  \n",
              "Discount_offered          0.376067             0.397108  \n",
              "Weight_in_gms             1.000000             0.268793  \n",
              "Reached.on.Time_Y.N       0.268793             1.000000  "
            ],
            "text/html": [
              "\n",
              "  <div id=\"df-12e4cdbd-bf54-4f03-8f74-a79e5087a1af\">\n",
              "    <div class=\"colab-df-container\">\n",
              "      <div>\n",
              "<style scoped>\n",
              "    .dataframe tbody tr th:only-of-type {\n",
              "        vertical-align: middle;\n",
              "    }\n",
              "\n",
              "    .dataframe tbody tr th {\n",
              "        vertical-align: top;\n",
              "    }\n",
              "\n",
              "    .dataframe thead th {\n",
              "        text-align: right;\n",
              "    }\n",
              "</style>\n",
              "<table border=\"1\" class=\"dataframe\">\n",
              "  <thead>\n",
              "    <tr style=\"text-align: right;\">\n",
              "      <th></th>\n",
              "      <th>Customer_care_calls</th>\n",
              "      <th>Customer_rating</th>\n",
              "      <th>Cost_of_the_Product</th>\n",
              "      <th>Prior_purchases</th>\n",
              "      <th>Discount_offered</th>\n",
              "      <th>Weight_in_gms</th>\n",
              "      <th>Reached.on.Time_Y.N</th>\n",
              "    </tr>\n",
              "  </thead>\n",
              "  <tbody>\n",
              "    <tr>\n",
              "      <th>Customer_care_calls</th>\n",
              "      <td>1.000000</td>\n",
              "      <td>0.012209</td>\n",
              "      <td>0.323182</td>\n",
              "      <td>0.180771</td>\n",
              "      <td>0.130750</td>\n",
              "      <td>0.276615</td>\n",
              "      <td>0.067126</td>\n",
              "    </tr>\n",
              "    <tr>\n",
              "      <th>Customer_rating</th>\n",
              "      <td>0.012209</td>\n",
              "      <td>1.000000</td>\n",
              "      <td>0.009270</td>\n",
              "      <td>0.013179</td>\n",
              "      <td>0.003124</td>\n",
              "      <td>0.001897</td>\n",
              "      <td>0.013119</td>\n",
              "    </tr>\n",
              "    <tr>\n",
              "      <th>Cost_of_the_Product</th>\n",
              "      <td>0.323182</td>\n",
              "      <td>0.009270</td>\n",
              "      <td>1.000000</td>\n",
              "      <td>0.123676</td>\n",
              "      <td>0.138312</td>\n",
              "      <td>0.132604</td>\n",
              "      <td>0.073587</td>\n",
              "    </tr>\n",
              "    <tr>\n",
              "      <th>Prior_purchases</th>\n",
              "      <td>0.180771</td>\n",
              "      <td>0.013179</td>\n",
              "      <td>0.123676</td>\n",
              "      <td>1.000000</td>\n",
              "      <td>0.082769</td>\n",
              "      <td>0.168213</td>\n",
              "      <td>0.055515</td>\n",
              "    </tr>\n",
              "    <tr>\n",
              "      <th>Discount_offered</th>\n",
              "      <td>0.130750</td>\n",
              "      <td>0.003124</td>\n",
              "      <td>0.138312</td>\n",
              "      <td>0.082769</td>\n",
              "      <td>1.000000</td>\n",
              "      <td>0.376067</td>\n",
              "      <td>0.397108</td>\n",
              "    </tr>\n",
              "    <tr>\n",
              "      <th>Weight_in_gms</th>\n",
              "      <td>0.276615</td>\n",
              "      <td>0.001897</td>\n",
              "      <td>0.132604</td>\n",
              "      <td>0.168213</td>\n",
              "      <td>0.376067</td>\n",
              "      <td>1.000000</td>\n",
              "      <td>0.268793</td>\n",
              "    </tr>\n",
              "    <tr>\n",
              "      <th>Reached.on.Time_Y.N</th>\n",
              "      <td>0.067126</td>\n",
              "      <td>0.013119</td>\n",
              "      <td>0.073587</td>\n",
              "      <td>0.055515</td>\n",
              "      <td>0.397108</td>\n",
              "      <td>0.268793</td>\n",
              "      <td>1.000000</td>\n",
              "    </tr>\n",
              "  </tbody>\n",
              "</table>\n",
              "</div>\n",
              "      <button class=\"colab-df-convert\" onclick=\"convertToInteractive('df-12e4cdbd-bf54-4f03-8f74-a79e5087a1af')\"\n",
              "              title=\"Convert this dataframe to an interactive table.\"\n",
              "              style=\"display:none;\">\n",
              "        \n",
              "  <svg xmlns=\"http://www.w3.org/2000/svg\" height=\"24px\"viewBox=\"0 0 24 24\"\n",
              "       width=\"24px\">\n",
              "    <path d=\"M0 0h24v24H0V0z\" fill=\"none\"/>\n",
              "    <path d=\"M18.56 5.44l.94 2.06.94-2.06 2.06-.94-2.06-.94-.94-2.06-.94 2.06-2.06.94zm-11 1L8.5 8.5l.94-2.06 2.06-.94-2.06-.94L8.5 2.5l-.94 2.06-2.06.94zm10 10l.94 2.06.94-2.06 2.06-.94-2.06-.94-.94-2.06-.94 2.06-2.06.94z\"/><path d=\"M17.41 7.96l-1.37-1.37c-.4-.4-.92-.59-1.43-.59-.52 0-1.04.2-1.43.59L10.3 9.45l-7.72 7.72c-.78.78-.78 2.05 0 2.83L4 21.41c.39.39.9.59 1.41.59.51 0 1.02-.2 1.41-.59l7.78-7.78 2.81-2.81c.8-.78.8-2.07 0-2.86zM5.41 20L4 18.59l7.72-7.72 1.47 1.35L5.41 20z\"/>\n",
              "  </svg>\n",
              "      </button>\n",
              "      \n",
              "  <style>\n",
              "    .colab-df-container {\n",
              "      display:flex;\n",
              "      flex-wrap:wrap;\n",
              "      gap: 12px;\n",
              "    }\n",
              "\n",
              "    .colab-df-convert {\n",
              "      background-color: #E8F0FE;\n",
              "      border: none;\n",
              "      border-radius: 50%;\n",
              "      cursor: pointer;\n",
              "      display: none;\n",
              "      fill: #1967D2;\n",
              "      height: 32px;\n",
              "      padding: 0 0 0 0;\n",
              "      width: 32px;\n",
              "    }\n",
              "\n",
              "    .colab-df-convert:hover {\n",
              "      background-color: #E2EBFA;\n",
              "      box-shadow: 0px 1px 2px rgba(60, 64, 67, 0.3), 0px 1px 3px 1px rgba(60, 64, 67, 0.15);\n",
              "      fill: #174EA6;\n",
              "    }\n",
              "\n",
              "    [theme=dark] .colab-df-convert {\n",
              "      background-color: #3B4455;\n",
              "      fill: #D2E3FC;\n",
              "    }\n",
              "\n",
              "    [theme=dark] .colab-df-convert:hover {\n",
              "      background-color: #434B5C;\n",
              "      box-shadow: 0px 1px 3px 1px rgba(0, 0, 0, 0.15);\n",
              "      filter: drop-shadow(0px 1px 2px rgba(0, 0, 0, 0.3));\n",
              "      fill: #FFFFFF;\n",
              "    }\n",
              "  </style>\n",
              "\n",
              "      <script>\n",
              "        const buttonEl =\n",
              "          document.querySelector('#df-12e4cdbd-bf54-4f03-8f74-a79e5087a1af button.colab-df-convert');\n",
              "        buttonEl.style.display =\n",
              "          google.colab.kernel.accessAllowed ? 'block' : 'none';\n",
              "\n",
              "        async function convertToInteractive(key) {\n",
              "          const element = document.querySelector('#df-12e4cdbd-bf54-4f03-8f74-a79e5087a1af');\n",
              "          const dataTable =\n",
              "            await google.colab.kernel.invokeFunction('convertToInteractive',\n",
              "                                                     [key], {});\n",
              "          if (!dataTable) return;\n",
              "\n",
              "          const docLinkHtml = 'Like what you see? Visit the ' +\n",
              "            '<a target=\"_blank\" href=https://colab.research.google.com/notebooks/data_table.ipynb>data table notebook</a>'\n",
              "            + ' to learn more about interactive tables.';\n",
              "          element.innerHTML = '';\n",
              "          dataTable['output_type'] = 'display_data';\n",
              "          await google.colab.output.renderOutput(dataTable, element);\n",
              "          const docLink = document.createElement('div');\n",
              "          docLink.innerHTML = docLinkHtml;\n",
              "          element.appendChild(docLink);\n",
              "        }\n",
              "      </script>\n",
              "    </div>\n",
              "  </div>\n",
              "  "
            ]
          },
          "metadata": {},
          "execution_count": 7
        }
      ]
    },
    {
      "cell_type": "code",
      "source": [
        "corr_df[(np.abs(corr_df) > 0.2) & (corr_df < 1)]"
      ],
      "metadata": {
        "colab": {
          "base_uri": "https://localhost:8080/",
          "height": 330
        },
        "id": "RU6uotc6VA43",
        "outputId": "dcc80157-6b10-464c-dbbc-6bf32b4ab713"
      },
      "execution_count": 8,
      "outputs": [
        {
          "output_type": "execute_result",
          "data": {
            "text/plain": [
              "                     Customer_care_calls  Customer_rating  \\\n",
              "Customer_care_calls                  NaN              NaN   \n",
              "Customer_rating                      NaN              NaN   \n",
              "Cost_of_the_Product             0.323182              NaN   \n",
              "Prior_purchases                      NaN              NaN   \n",
              "Discount_offered                     NaN              NaN   \n",
              "Weight_in_gms                  -0.276615              NaN   \n",
              "Reached.on.Time_Y.N                  NaN              NaN   \n",
              "\n",
              "                     Cost_of_the_Product  Prior_purchases  Discount_offered  \\\n",
              "Customer_care_calls             0.323182              NaN               NaN   \n",
              "Customer_rating                      NaN              NaN               NaN   \n",
              "Cost_of_the_Product                  NaN              NaN               NaN   \n",
              "Prior_purchases                      NaN              NaN               NaN   \n",
              "Discount_offered                     NaN              NaN               NaN   \n",
              "Weight_in_gms                        NaN              NaN         -0.376067   \n",
              "Reached.on.Time_Y.N                  NaN              NaN          0.397108   \n",
              "\n",
              "                     Weight_in_gms  Reached.on.Time_Y.N  \n",
              "Customer_care_calls      -0.276615                  NaN  \n",
              "Customer_rating                NaN                  NaN  \n",
              "Cost_of_the_Product            NaN                  NaN  \n",
              "Prior_purchases                NaN                  NaN  \n",
              "Discount_offered         -0.376067             0.397108  \n",
              "Weight_in_gms                  NaN            -0.268793  \n",
              "Reached.on.Time_Y.N      -0.268793                  NaN  "
            ],
            "text/html": [
              "\n",
              "  <div id=\"df-4e723b63-1d18-4bf2-8114-364fce02d60b\">\n",
              "    <div class=\"colab-df-container\">\n",
              "      <div>\n",
              "<style scoped>\n",
              "    .dataframe tbody tr th:only-of-type {\n",
              "        vertical-align: middle;\n",
              "    }\n",
              "\n",
              "    .dataframe tbody tr th {\n",
              "        vertical-align: top;\n",
              "    }\n",
              "\n",
              "    .dataframe thead th {\n",
              "        text-align: right;\n",
              "    }\n",
              "</style>\n",
              "<table border=\"1\" class=\"dataframe\">\n",
              "  <thead>\n",
              "    <tr style=\"text-align: right;\">\n",
              "      <th></th>\n",
              "      <th>Customer_care_calls</th>\n",
              "      <th>Customer_rating</th>\n",
              "      <th>Cost_of_the_Product</th>\n",
              "      <th>Prior_purchases</th>\n",
              "      <th>Discount_offered</th>\n",
              "      <th>Weight_in_gms</th>\n",
              "      <th>Reached.on.Time_Y.N</th>\n",
              "    </tr>\n",
              "  </thead>\n",
              "  <tbody>\n",
              "    <tr>\n",
              "      <th>Customer_care_calls</th>\n",
              "      <td>NaN</td>\n",
              "      <td>NaN</td>\n",
              "      <td>0.323182</td>\n",
              "      <td>NaN</td>\n",
              "      <td>NaN</td>\n",
              "      <td>-0.276615</td>\n",
              "      <td>NaN</td>\n",
              "    </tr>\n",
              "    <tr>\n",
              "      <th>Customer_rating</th>\n",
              "      <td>NaN</td>\n",
              "      <td>NaN</td>\n",
              "      <td>NaN</td>\n",
              "      <td>NaN</td>\n",
              "      <td>NaN</td>\n",
              "      <td>NaN</td>\n",
              "      <td>NaN</td>\n",
              "    </tr>\n",
              "    <tr>\n",
              "      <th>Cost_of_the_Product</th>\n",
              "      <td>0.323182</td>\n",
              "      <td>NaN</td>\n",
              "      <td>NaN</td>\n",
              "      <td>NaN</td>\n",
              "      <td>NaN</td>\n",
              "      <td>NaN</td>\n",
              "      <td>NaN</td>\n",
              "    </tr>\n",
              "    <tr>\n",
              "      <th>Prior_purchases</th>\n",
              "      <td>NaN</td>\n",
              "      <td>NaN</td>\n",
              "      <td>NaN</td>\n",
              "      <td>NaN</td>\n",
              "      <td>NaN</td>\n",
              "      <td>NaN</td>\n",
              "      <td>NaN</td>\n",
              "    </tr>\n",
              "    <tr>\n",
              "      <th>Discount_offered</th>\n",
              "      <td>NaN</td>\n",
              "      <td>NaN</td>\n",
              "      <td>NaN</td>\n",
              "      <td>NaN</td>\n",
              "      <td>NaN</td>\n",
              "      <td>-0.376067</td>\n",
              "      <td>0.397108</td>\n",
              "    </tr>\n",
              "    <tr>\n",
              "      <th>Weight_in_gms</th>\n",
              "      <td>-0.276615</td>\n",
              "      <td>NaN</td>\n",
              "      <td>NaN</td>\n",
              "      <td>NaN</td>\n",
              "      <td>-0.376067</td>\n",
              "      <td>NaN</td>\n",
              "      <td>-0.268793</td>\n",
              "    </tr>\n",
              "    <tr>\n",
              "      <th>Reached.on.Time_Y.N</th>\n",
              "      <td>NaN</td>\n",
              "      <td>NaN</td>\n",
              "      <td>NaN</td>\n",
              "      <td>NaN</td>\n",
              "      <td>0.397108</td>\n",
              "      <td>-0.268793</td>\n",
              "      <td>NaN</td>\n",
              "    </tr>\n",
              "  </tbody>\n",
              "</table>\n",
              "</div>\n",
              "      <button class=\"colab-df-convert\" onclick=\"convertToInteractive('df-4e723b63-1d18-4bf2-8114-364fce02d60b')\"\n",
              "              title=\"Convert this dataframe to an interactive table.\"\n",
              "              style=\"display:none;\">\n",
              "        \n",
              "  <svg xmlns=\"http://www.w3.org/2000/svg\" height=\"24px\"viewBox=\"0 0 24 24\"\n",
              "       width=\"24px\">\n",
              "    <path d=\"M0 0h24v24H0V0z\" fill=\"none\"/>\n",
              "    <path d=\"M18.56 5.44l.94 2.06.94-2.06 2.06-.94-2.06-.94-.94-2.06-.94 2.06-2.06.94zm-11 1L8.5 8.5l.94-2.06 2.06-.94-2.06-.94L8.5 2.5l-.94 2.06-2.06.94zm10 10l.94 2.06.94-2.06 2.06-.94-2.06-.94-.94-2.06-.94 2.06-2.06.94z\"/><path d=\"M17.41 7.96l-1.37-1.37c-.4-.4-.92-.59-1.43-.59-.52 0-1.04.2-1.43.59L10.3 9.45l-7.72 7.72c-.78.78-.78 2.05 0 2.83L4 21.41c.39.39.9.59 1.41.59.51 0 1.02-.2 1.41-.59l7.78-7.78 2.81-2.81c.8-.78.8-2.07 0-2.86zM5.41 20L4 18.59l7.72-7.72 1.47 1.35L5.41 20z\"/>\n",
              "  </svg>\n",
              "      </button>\n",
              "      \n",
              "  <style>\n",
              "    .colab-df-container {\n",
              "      display:flex;\n",
              "      flex-wrap:wrap;\n",
              "      gap: 12px;\n",
              "    }\n",
              "\n",
              "    .colab-df-convert {\n",
              "      background-color: #E8F0FE;\n",
              "      border: none;\n",
              "      border-radius: 50%;\n",
              "      cursor: pointer;\n",
              "      display: none;\n",
              "      fill: #1967D2;\n",
              "      height: 32px;\n",
              "      padding: 0 0 0 0;\n",
              "      width: 32px;\n",
              "    }\n",
              "\n",
              "    .colab-df-convert:hover {\n",
              "      background-color: #E2EBFA;\n",
              "      box-shadow: 0px 1px 2px rgba(60, 64, 67, 0.3), 0px 1px 3px 1px rgba(60, 64, 67, 0.15);\n",
              "      fill: #174EA6;\n",
              "    }\n",
              "\n",
              "    [theme=dark] .colab-df-convert {\n",
              "      background-color: #3B4455;\n",
              "      fill: #D2E3FC;\n",
              "    }\n",
              "\n",
              "    [theme=dark] .colab-df-convert:hover {\n",
              "      background-color: #434B5C;\n",
              "      box-shadow: 0px 1px 3px 1px rgba(0, 0, 0, 0.15);\n",
              "      filter: drop-shadow(0px 1px 2px rgba(0, 0, 0, 0.3));\n",
              "      fill: #FFFFFF;\n",
              "    }\n",
              "  </style>\n",
              "\n",
              "      <script>\n",
              "        const buttonEl =\n",
              "          document.querySelector('#df-4e723b63-1d18-4bf2-8114-364fce02d60b button.colab-df-convert');\n",
              "        buttonEl.style.display =\n",
              "          google.colab.kernel.accessAllowed ? 'block' : 'none';\n",
              "\n",
              "        async function convertToInteractive(key) {\n",
              "          const element = document.querySelector('#df-4e723b63-1d18-4bf2-8114-364fce02d60b');\n",
              "          const dataTable =\n",
              "            await google.colab.kernel.invokeFunction('convertToInteractive',\n",
              "                                                     [key], {});\n",
              "          if (!dataTable) return;\n",
              "\n",
              "          const docLinkHtml = 'Like what you see? Visit the ' +\n",
              "            '<a target=\"_blank\" href=https://colab.research.google.com/notebooks/data_table.ipynb>data table notebook</a>'\n",
              "            + ' to learn more about interactive tables.';\n",
              "          element.innerHTML = '';\n",
              "          dataTable['output_type'] = 'display_data';\n",
              "          await google.colab.output.renderOutput(dataTable, element);\n",
              "          const docLink = document.createElement('div');\n",
              "          docLink.innerHTML = docLinkHtml;\n",
              "          element.appendChild(docLink);\n",
              "        }\n",
              "      </script>\n",
              "    </div>\n",
              "  </div>\n",
              "  "
            ]
          },
          "metadata": {},
          "execution_count": 8
        }
      ]
    },
    {
      "cell_type": "markdown",
      "source": [
        "- 양의 상관관계가 의미 있는 set(절댓값이 0.2 이상)\n",
        "\n",
        "  1. Customer_care_calls, Cost_of_the_Product(0.32)\n",
        "  2. Discount_offered, Reached.on.Time_Y.N(0.39)\n",
        "\n",
        "---------------------------------------------------------\n",
        "\n",
        "- 음의 상관관계가 의미 있는 set(절댓값이 0.2 이상)\n",
        "\n",
        "  1. Customer_care_calls, Weight_in_gms(-0.27)\n",
        "  2. Discount_offered, Weight_in_gms(-0.37)\n",
        "  3. Reached.on.Time_Y.N, Weight_in_gms(-0.26)"
      ],
      "metadata": {
        "id": "8oExNzODSNR-"
      }
    },
    {
      "cell_type": "markdown",
      "source": [
        "## 배송문의 전화, 가격의 관계"
      ],
      "metadata": {
        "id": "2ZvI_b81T7Ql"
      }
    },
    {
      "cell_type": "code",
      "source": [
        "plt.figure(figsize=(10,5))\n",
        "sns.violinplot(x=data['Customer_care_calls'], y = data['Cost_of_the_Product'])"
      ],
      "metadata": {
        "colab": {
          "base_uri": "https://localhost:8080/",
          "height": 356
        },
        "id": "UEHzJAflRVWp",
        "outputId": "437e12c0-16ae-4e13-c86a-864f1f9a598f"
      },
      "execution_count": 9,
      "outputs": [
        {
          "output_type": "execute_result",
          "data": {
            "text/plain": [
              "<matplotlib.axes._subplots.AxesSubplot at 0x7f6d2e652f10>"
            ]
          },
          "metadata": {},
          "execution_count": 9
        },
        {
          "output_type": "display_data",
          "data": {
            "text/plain": [
              "<Figure size 720x360 with 1 Axes>"
            ],
            "image/png": "[encoded data removed]"
          },
          "metadata": {
            "needs_background": "light"
          }
        }
      ]
    },
    {
      "cell_type": "markdown",
      "source": [
        "배송문의 전화가 많을수록 상품의 가격은 높은 것을 알 수 있다."
      ],
      "metadata": {
        "id": "TZjOW9txUnUe"
      }
    },
    {
      "cell_type": "markdown",
      "source": [
        "## 할인율과 물건이 제때 도착하는지\n",
        "\n",
        "- 할인율이 높을수록 제 때에 도착할까? **그렇지 않다..? 할인율이 높으면 제 때 도착하지 않는다.**\n",
        "- 1은 제때 도착하지 않음, 0은 제때 도착\n"
      ],
      "metadata": {
        "id": "7nXGtJD4Uw-a"
      }
    },
    {
      "cell_type": "code",
      "source": [
        "sns.boxplot(data = data, x = 'Reached.on.Time_Y.N', y = 'Discount_offered' )"
      ],
      "metadata": {
        "colab": {
          "base_uri": "https://localhost:8080/",
          "height": 298
        },
        "id": "bOajaiDaUwV0",
        "outputId": "8eb60ef0-cf3e-4d4e-edb3-2b12fd7d16b9"
      },
      "execution_count": 10,
      "outputs": [
        {
          "output_type": "execute_result",
          "data": {
            "text/plain": [
              "<matplotlib.axes._subplots.AxesSubplot at 0x7f6d2c0d7050>"
            ]
          },
          "metadata": {},
          "execution_count": 10
        },
        {
          "output_type": "display_data",
          "data": {
            "text/plain": [
              "<Figure size 432x288 with 1 Axes>"
            ],
            "image/png": "[encoded data removed]"
          },
          "metadata": {
            "needs_background": "light"
          }
        }
      ]
    },
    {
      "cell_type": "code",
      "source": [
        "print(\"제 때 도착하지 않는 물건의 할인율 평균: \", data[data['Reached.on.Time_Y.N']==1]['Discount_offered'].mean())"
      ],
      "metadata": {
        "colab": {
          "base_uri": "https://localhost:8080/"
        },
        "id": "Dx_kzBNlYqMc",
        "outputId": "5695a6e1-42bb-4c7e-b46c-44175c8d09ea"
      },
      "execution_count": 11,
      "outputs": [
        {
          "output_type": "stream",
          "name": "stdout",
          "text": [
            "제 때 도착하지 않는 물건의 할인율 평균:  18.663720859363096\n"
          ]
        }
      ]
    },
    {
      "cell_type": "code",
      "source": [
        "print(\"제 때 도착하는 물건의 할인율 평균: \", data[data['Reached.on.Time_Y.N']==0]['Discount_offered'].mean())"
      ],
      "metadata": {
        "colab": {
          "base_uri": "https://localhost:8080/"
        },
        "id": "0hzWj19VYyfQ",
        "outputId": "5eedaab7-f8dd-4e88-f20f-3a4a8425f920"
      },
      "execution_count": 12,
      "outputs": [
        {
          "output_type": "stream",
          "name": "stdout",
          "text": [
            "제 때 도착하는 물건의 할인율 평균:  5.545987376014428\n"
          ]
        }
      ]
    },
    {
      "cell_type": "code",
      "source": [
        "stats.ttest_ind(data[data['Reached.on.Time_Y.N']==1]['Discount_offered'], data[data['Reached.on.Time_Y.N']==0]['Discount_offered'])"
      ],
      "metadata": {
        "colab": {
          "base_uri": "https://localhost:8080/"
        },
        "id": "NOCZXEDpZF6i",
        "outputId": "7630a6ee-91e7-45fe-cc97-7054b2229ca4"
      },
      "execution_count": 13,
      "outputs": [
        {
          "output_type": "execute_result",
          "data": {
            "text/plain": [
              "Ttest_indResult(statistic=45.3744750332705, pvalue=0.0)"
            ]
          },
          "metadata": {},
          "execution_count": 13
        }
      ]
    },
    {
      "cell_type": "markdown",
      "source": [
        "두 개의 평균에는 차이가 있다."
      ],
      "metadata": {
        "id": "6UNeJe58dYKF"
      }
    },
    {
      "cell_type": "markdown",
      "source": [
        "## 물건의 무게와 몇 가지 특성의 관계(배송문의전화, 할인율, 제때 도착여부)"
      ],
      "metadata": {
        "id": "232N3hKCjwSi"
      }
    },
    {
      "cell_type": "code",
      "source": [
        "# 무게와 배송 문의 전화\n",
        "sns.boxplot(x = 'Customer_care_calls', y = 'Weight_in_gms', data = data)"
      ],
      "metadata": {
        "id": "GVfFt9BDkJKS",
        "colab": {
          "base_uri": "https://localhost:8080/",
          "height": 298
        },
        "outputId": "0d9fd7e5-5ead-4d2f-b4e5-ec66cfdf4e6b"
      },
      "execution_count": 57,
      "outputs": [
        {
          "output_type": "execute_result",
          "data": {
            "text/plain": [
              "<matplotlib.axes._subplots.AxesSubplot at 0x7f6d2a659490>"
            ]
          },
          "metadata": {},
          "execution_count": 57
        },
        {
          "output_type": "display_data",
          "data": {
            "text/plain": [
              "<Figure size 432x288 with 1 Axes>"
            ],
            "image/png": "[encoded data removed]"
          },
          "metadata": {
            "needs_background": "light"
          }
        }
      ]
    },
    {
      "cell_type": "code",
      "source": [
        "sns.violinplot(x = 'Customer_care_calls', y = 'Weight_in_gms', data = data)"
      ],
      "metadata": {
        "colab": {
          "base_uri": "https://localhost:8080/",
          "height": 298
        },
        "id": "-oHi5SsiddVP",
        "outputId": "7262c251-2fe9-4700-e0db-22c7e579d53c"
      },
      "execution_count": 59,
      "outputs": [
        {
          "output_type": "execute_result",
          "data": {
            "text/plain": [
              "<matplotlib.axes._subplots.AxesSubplot at 0x7f6d2a334ad0>"
            ]
          },
          "metadata": {},
          "execution_count": 59
        },
        {
          "output_type": "display_data",
          "data": {
            "text/plain": [
              "<Figure size 432x288 with 1 Axes>"
            ],
            "image/png": "[encoded data removed]"
          },
          "metadata": {
            "needs_background": "light"
          }
        }
      ]
    },
    {
      "cell_type": "markdown",
      "source": [
        "배송 문의 전화가 많을 수록 낮은 무게의 물건이 좀 더 많다."
      ],
      "metadata": {
        "id": "oAHOuQdMdyCi"
      }
    },
    {
      "cell_type": "markdown",
      "source": [
        " - 무게가 많이 나갈 수록 배송 문의 전화가 많은가?\n",
        " 그렇지 않다."
      ],
      "metadata": {
        "id": "Tc79hCHUcfXh"
      }
    },
    {
      "cell_type": "code",
      "source": [
        "# 무게와 물건이 제 때 도착하는지에 대한 관계\n",
        "sns.boxplot(x= data['Reached.on.Time_Y.N'], y = data['Weight_in_gms'])"
      ],
      "metadata": {
        "colab": {
          "base_uri": "https://localhost:8080/",
          "height": 298
        },
        "id": "8vRvOY8SdmIO",
        "outputId": "2567aa4a-8011-4861-db5d-b15549dd5114"
      },
      "execution_count": 16,
      "outputs": [
        {
          "output_type": "execute_result",
          "data": {
            "text/plain": [
              "<matplotlib.axes._subplots.AxesSubplot at 0x7f6d2bee4ad0>"
            ]
          },
          "metadata": {},
          "execution_count": 16
        },
        {
          "output_type": "display_data",
          "data": {
            "text/plain": [
              "<Figure size 432x288 with 1 Axes>"
            ],
            "image/png": "[encoded data removed]"
          },
          "metadata": {
            "needs_background": "light"
          }
        }
      ]
    },
    {
      "cell_type": "markdown",
      "source": [
        "무거운 물건은 제 때 도착할 가능성이 높다.\n",
        "\n",
        "\n",
        "\n",
        "무게가 가벼운 물건은 제 때 도착할 가능성이 낮다.\n",
        "\n",
        "\n",
        "\n",
        "\n",
        "\n"
      ],
      "metadata": {
        "id": "lm4yjV4seiEI"
      }
    },
    {
      "cell_type": "markdown",
      "source": [
        "## 블록별 운송수단 비율\n"
      ],
      "metadata": {
        "id": "w5eZu93Yf-zG"
      }
    },
    {
      "cell_type": "code",
      "source": [
        "warehouse_A = data.groupby('Warehouse_block').get_group('A')\n",
        "warehouse_B = data.groupby('Warehouse_block').get_group('B')\n",
        "warehouse_C = data.groupby('Warehouse_block').get_group('C')\n",
        "warehouse_D = data.groupby('Warehouse_block').get_group('D')\n",
        "warehouse_F= data.groupby('Warehouse_block').get_group('F')"
      ],
      "metadata": {
        "id": "O_Nm5m6UgDf2"
      },
      "execution_count": 17,
      "outputs": []
    },
    {
      "cell_type": "code",
      "source": [
        "print(\"Warehouse A:\\n \", warehouse_A['Mode_of_Shipment'].value_counts(normalize = True))\n",
        "print(\"Warehouse B:\\n \",warehouse_B['Mode_of_Shipment'].value_counts(normalize = True))\n",
        "print(\"Warehouse C:\\n \",warehouse_C['Mode_of_Shipment'].value_counts(normalize = True))\n",
        "print(\"Warehouse D:\\n \",warehouse_D['Mode_of_Shipment'].value_counts(normalize = True))\n",
        "print(\"Warehouse F:\\n \",warehouse_F['Mode_of_Shipment'].value_counts(normalize = True))"
      ],
      "metadata": {
        "colab": {
          "base_uri": "https://localhost:8080/"
        },
        "id": "C5exmMTYgeBa",
        "outputId": "8367b226-05e2-472d-eb3e-3c54fc2e8403"
      },
      "execution_count": 18,
      "outputs": [
        {
          "output_type": "stream",
          "name": "stdout",
          "text": [
            "Warehouse A:\n",
            "  Ship      0.677578\n",
            "Flight    0.162029\n",
            "Road      0.160393\n",
            "Name: Mode_of_Shipment, dtype: float64\n",
            "Warehouse B:\n",
            "  Ship      0.678123\n",
            "Flight    0.161484\n",
            "Road      0.160393\n",
            "Name: Mode_of_Shipment, dtype: float64\n",
            "Warehouse C:\n",
            "  Ship      0.678669\n",
            "Flight    0.160938\n",
            "Road      0.160393\n",
            "Name: Mode_of_Shipment, dtype: float64\n",
            "Warehouse D:\n",
            "  Ship      0.678844\n",
            "Flight    0.161941\n",
            "Road      0.159215\n",
            "Name: Mode_of_Shipment, dtype: float64\n",
            "Warehouse F:\n",
            "  Ship      0.678669\n",
            "Flight    0.161484\n",
            "Road      0.159847\n",
            "Name: Mode_of_Shipment, dtype: float64\n"
          ]
        }
      ]
    },
    {
      "cell_type": "code",
      "source": [
        "A_label = warehouse_A['Mode_of_Shipment'].value_counts().index\n",
        "B_label = warehouse_B['Mode_of_Shipment'].value_counts().index\n",
        "C_label = warehouse_C['Mode_of_Shipment'].value_counts().index\n",
        "D_label = warehouse_D['Mode_of_Shipment'].value_counts().index\n",
        "F_label = warehouse_F['Mode_of_Shipment'].value_counts().index\n",
        "\n",
        "plt.figure(figsize = (10,10))\n",
        "\n",
        "plt.subplot(2,3,1)\n",
        "plt.title('Warehouse A')\n",
        "plt.pie(warehouse_A['Mode_of_Shipment'].value_counts(normalize=True), labels = A_label, autopct='%.1f%%')\n",
        "\n",
        "plt.subplot(2,3,2)\n",
        "plt.title('Warehouse B')\n",
        "plt.pie(warehouse_B['Mode_of_Shipment'].value_counts(normalize=True), labels = B_label, autopct='%.1f%%')\n",
        "\n",
        "plt.subplot(2,3,3)\n",
        "plt.title('Warehouse C')\n",
        "plt.pie(warehouse_C['Mode_of_Shipment'].value_counts(normalize=True), labels = C_label, autopct='%.1f%%')\n",
        "\n",
        "plt.subplot(2,3,4)\n",
        "plt.title('Warehouse D')\n",
        "plt.pie(warehouse_D['Mode_of_Shipment'].value_counts(normalize=True), labels = D_label, autopct='%.1f%%')\n",
        "\n",
        "plt.subplot(2,3,5)\n",
        "plt.title('Warehouse F')\n",
        "plt.pie(warehouse_F['Mode_of_Shipment'].value_counts(normalize=True), labels = F_label, autopct='%.1f%%')"
      ],
      "metadata": {
        "colab": {
          "base_uri": "https://localhost:8080/",
          "height": 670
        },
        "id": "yxZF-573eWzO",
        "outputId": "3e716482-2162-4528-ffbb-3c05015e3d6a"
      },
      "execution_count": 86,
      "outputs": [
        {
          "output_type": "execute_result",
          "data": {
            "text/plain": [
              "([<matplotlib.patches.Wedge at 0x7f6d29dc1150>,\n",
              "  <matplotlib.patches.Wedge at 0x7f6d29dc16d0>,\n",
              "  <matplotlib.patches.Wedge at 0x7f6d293a7050>],\n",
              " [Text(-0.585520337921849, 0.9312174471517831, 'Ship'),\n",
              "  Text(0.0650049264682365, -1.0980775744613216, 'Flight'),\n",
              "  Text(0.9641915474334185, -0.5294663916226885, 'Road')],\n",
              " [Text(-0.3193747297755539, 0.507936789355518, '67.9%'),\n",
              "  Text(0.03545723261903808, -0.59895140425163, '16.1%'),\n",
              "  Text(0.52592266223641, -0.2887998499760119, '16.0%')])"
            ]
          },
          "metadata": {},
          "execution_count": 86
        },
        {
          "output_type": "display_data",
          "data": {
            "text/plain": [
              "<Figure size 720x720 with 5 Axes>"
            ],
            "image/png": "[encoded data removed]"
          },
          "metadata": {}
        }
      ]
    },
    {
      "cell_type": "markdown",
      "source": [
        "각 창고는 운송수단의 비율이 비슷하게 분포되어 있는 것을 알 수 있다."
      ],
      "metadata": {
        "id": "owQrpxF1hOd2"
      }
    },
    {
      "cell_type": "markdown",
      "source": [
        "## 중요도별 창고 비율\n",
        "\n",
        "low, med, high 의 비율을 창고별로 살펴본다."
      ],
      "metadata": {
        "id": "dRTroNiiiXJT"
      }
    },
    {
      "cell_type": "code",
      "source": [
        "data['Product_importance'].value_counts(normalize=True)"
      ],
      "metadata": {
        "colab": {
          "base_uri": "https://localhost:8080/"
        },
        "id": "J31sJSjrjTz8",
        "outputId": "1cf2b885-946b-46d5-ac96-9ef3677fbb99"
      },
      "execution_count": 19,
      "outputs": [
        {
          "output_type": "execute_result",
          "data": {
            "text/plain": [
              "low       0.481589\n",
              "medium    0.432221\n",
              "high      0.086190\n",
              "Name: Product_importance, dtype: float64"
            ]
          },
          "metadata": {},
          "execution_count": 19
        }
      ]
    },
    {
      "cell_type": "code",
      "source": [
        "importance_low = data.groupby('Product_importance').get_group('low')\n",
        "importance_medium = data.groupby('Product_importance').get_group('medium')\n",
        "importance_high = data.groupby('Product_importance').get_group('high')"
      ],
      "metadata": {
        "id": "xkMgVo8SiW0k"
      },
      "execution_count": 26,
      "outputs": []
    },
    {
      "cell_type": "code",
      "source": [
        "importance_low['Warehouse_block'].value_counts()"
      ],
      "metadata": {
        "colab": {
          "base_uri": "https://localhost:8080/"
        },
        "id": "8o3QheQOjZ4T",
        "outputId": "7eaed2fe-4b81-4b14-b856-5771ff3553fd"
      },
      "execution_count": 27,
      "outputs": [
        {
          "output_type": "execute_result",
          "data": {
            "text/plain": [
              "F    1776\n",
              "A     909\n",
              "D     883\n",
              "C     874\n",
              "B     855\n",
              "Name: Warehouse_block, dtype: int64"
            ]
          },
          "metadata": {},
          "execution_count": 27
        }
      ]
    },
    {
      "cell_type": "code",
      "source": [
        "importance_medium['Warehouse_block'].value_counts()"
      ],
      "metadata": {
        "colab": {
          "base_uri": "https://localhost:8080/"
        },
        "id": "fyEXD9o3jlFx",
        "outputId": "67beb8b6-a17b-4427-d29e-80474cd02a0a"
      },
      "execution_count": 28,
      "outputs": [
        {
          "output_type": "execute_result",
          "data": {
            "text/plain": [
              "F    1587\n",
              "B     832\n",
              "C     791\n",
              "D     785\n",
              "A     759\n",
              "Name: Warehouse_block, dtype: int64"
            ]
          },
          "metadata": {},
          "execution_count": 28
        }
      ]
    },
    {
      "cell_type": "code",
      "source": [
        "importance_high['Warehouse_block'].value_counts()"
      ],
      "metadata": {
        "colab": {
          "base_uri": "https://localhost:8080/"
        },
        "id": "Wanwys8DjpPY",
        "outputId": "dd549d7a-63ad-48f8-af9b-9ad8443e6dab"
      },
      "execution_count": 29,
      "outputs": [
        {
          "output_type": "execute_result",
          "data": {
            "text/plain": [
              "F    303\n",
              "C    168\n",
              "D    166\n",
              "A    165\n",
              "B    146\n",
              "Name: Warehouse_block, dtype: int64"
            ]
          },
          "metadata": {},
          "execution_count": 29
        }
      ]
    },
    {
      "cell_type": "code",
      "source": [
        "plt.figure(figsize = (10,10))\n",
        "\n",
        "plt.subplot(1,3,1)\n",
        "plt.title('importance low')\n",
        "plt.pie(importance_low['Warehouse_block'].value_counts(normalize=True), labels = importance_low['Warehouse_block'].value_counts().index, autopct='%.1f%%' )\n",
        "\n",
        "plt.subplot(1,3,2)\n",
        "plt.title('importance medium')\n",
        "plt.pie(importance_medium['Warehouse_block'].value_counts(normalize=True), labels = importance_medium['Warehouse_block'].value_counts().index, autopct='%.1f%%')\n",
        "\n",
        "plt.subplot(1,3,3)\n",
        "plt.title('importance high')\n",
        "plt.pie(importance_high['Warehouse_block'].value_counts(normalize=True), labels = importance_high['Warehouse_block'].value_counts().index , autopct='%.1f%%')"
      ],
      "metadata": {
        "colab": {
          "base_uri": "https://localhost:8080/",
          "height": 481
        },
        "id": "SwhfdHBGkOv7",
        "outputId": "1ed093f0-5e21-4c94-fa38-429d61a46241"
      },
      "execution_count": 87,
      "outputs": [
        {
          "output_type": "execute_result",
          "data": {
            "text/plain": [
              "([<matplotlib.patches.Wedge at 0x7f6d292a2790>,\n",
              "  <matplotlib.patches.Wedge at 0x7f6d292a2dd0>,\n",
              "  <matplotlib.patches.Wedge at 0x7f6d292af5d0>,\n",
              "  <matplotlib.patches.Wedge at 0x7f6d292aff90>,\n",
              "  <matplotlib.patches.Wedge at 0x7f6d292ba7d0>],\n",
              " [Text(0.5905170798705573, 0.9280568831602674, 'F'),\n",
              "  Text(-0.9221403389250472, 0.5997142614005433, 'C'),\n",
              "  Text(-0.9489617536827326, -0.5563017077516418, 'D'),\n",
              "  Text(0.06193740854788066, -1.098254869063813, 'A'),\n",
              "  Text(0.9737408382595168, -0.5116920752812708, 'B')],\n",
              " [Text(0.32210022538394034, 0.5062128453601458, '32.0%'),\n",
              "  Text(-0.502985639413662, 0.32711686985484173, '17.7%'),\n",
              "  Text(-0.5176155020087632, -0.3034372951372591, '17.5%'),\n",
              "  Text(0.03378404102611672, -0.5990481103984434, '17.4%'),\n",
              "  Text(0.5311313663233728, -0.27910476833523856, '15.4%')])"
            ]
          },
          "metadata": {},
          "execution_count": 87
        },
        {
          "output_type": "display_data",
          "data": {
            "text/plain": [
              "<Figure size 720x720 with 3 Axes>"
            ],
            "image/png": "[encoded data removed]"
          },
          "metadata": {}
        }
      ]
    },
    {
      "cell_type": "markdown",
      "source": [
        "## 무게에 따라서 운송수단이 달라질까?\n"
      ],
      "metadata": {
        "id": "b7iNPanyqCVX"
      }
    },
    {
      "cell_type": "code",
      "source": [
        "flight_data = data[data['Mode_of_Shipment']=='Flight']\n",
        "road_data = data[data['Mode_of_Shipment']=='Road']\n",
        "ship_data = data[data['Mode_of_Shipment']=='Ship']"
      ],
      "metadata": {
        "id": "tXhxiWwxqgY5"
      },
      "execution_count": 30,
      "outputs": []
    },
    {
      "cell_type": "code",
      "source": [
        "flight_data = flight_data.loc[:,['Weight_in_gms']]\n",
        "road_data = road_data.loc[:,['Weight_in_gms']]\n",
        "ship_data = ship_data.loc[:,['Weight_in_gms']]"
      ],
      "metadata": {
        "id": "8GA3HsfLqh7w"
      },
      "execution_count": 31,
      "outputs": []
    },
    {
      "cell_type": "code",
      "source": [
        "plt.figure(figsize=(20,5))\n",
        "\n",
        "plt.subplot(1,3,1)\n",
        "plt.title(\"Flight\")\n",
        "sns.histplot(flight_data)\n",
        "\n",
        "plt.subplot(1,3,2)\n",
        "plt.title(\"Road\")\n",
        "sns.histplot(road_data)\n",
        "\n",
        "plt.subplot(1,3,3)\n",
        "plt.title(\"Ship\")\n",
        "sns.histplot(ship_data)"
      ],
      "metadata": {
        "colab": {
          "base_uri": "https://localhost:8080/",
          "height": 334
        },
        "id": "vt8k_LCcqkeA",
        "outputId": "5e1af254-e1d5-44c2-95ae-7ca6056f9809"
      },
      "execution_count": 32,
      "outputs": [
        {
          "output_type": "execute_result",
          "data": {
            "text/plain": [
              "<matplotlib.axes._subplots.AxesSubplot at 0x7f6d2a564f50>"
            ]
          },
          "metadata": {},
          "execution_count": 32
        },
        {
          "output_type": "display_data",
          "data": {
            "text/plain": [
              "<Figure size 1440x360 with 3 Axes>"
            ],
            "image/png": "[encoded data removed]"
          },
          "metadata": {
            "needs_background": "light"
          }
        }
      ]
    },
    {
      "cell_type": "code",
      "source": [
        "sns.boxplot(x='Mode_of_Shipment', y='Weight_in_gms', data=data)"
      ],
      "metadata": {
        "colab": {
          "base_uri": "https://localhost:8080/",
          "height": 298
        },
        "id": "Jq2CIslUsOHn",
        "outputId": "2970c577-5779-4f8f-a69d-30cc6ecd9fb9"
      },
      "execution_count": 33,
      "outputs": [
        {
          "output_type": "execute_result",
          "data": {
            "text/plain": [
              "<matplotlib.axes._subplots.AxesSubplot at 0x7f6d2a602ad0>"
            ]
          },
          "metadata": {},
          "execution_count": 33
        },
        {
          "output_type": "display_data",
          "data": {
            "text/plain": [
              "<Figure size 432x288 with 1 Axes>"
            ],
            "image/png": "[encoded data removed]"
          },
          "metadata": {
            "needs_background": "light"
          }
        }
      ]
    },
    {
      "cell_type": "code",
      "source": [
        "stats.f_oneway(flight_data, road_data, ship_data)"
      ],
      "metadata": {
        "colab": {
          "base_uri": "https://localhost:8080/"
        },
        "id": "NQJK_yXEqwyq",
        "outputId": "7d5b677a-d962-4cac-b8f0-a13c13d87b3f"
      },
      "execution_count": 34,
      "outputs": [
        {
          "output_type": "execute_result",
          "data": {
            "text/plain": [
              "F_onewayResult(statistic=array([0.09566634]), pvalue=array([0.90876794]))"
            ]
          },
          "metadata": {},
          "execution_count": 34
        }
      ]
    },
    {
      "cell_type": "markdown",
      "source": [
        "p-value가 0.9 이므로 세 그룹의 평균에 차이가 없다고 볼 수 있음"
      ],
      "metadata": {
        "id": "iN0ZMvMsthdi"
      }
    },
    {
      "cell_type": "markdown",
      "source": [
        "# Part2 Machine Learning\n"
      ],
      "metadata": {
        "id": "v5DB-T4d24N0"
      }
    },
    {
      "cell_type": "markdown",
      "source": [
        "## 모든 컬럼 포함하여 제 시간에 도착하는지 여부 예측"
      ],
      "metadata": {
        "id": "IH6CsC8N4qOp"
      }
    },
    {
      "cell_type": "code",
      "source": [
        "# 기준모델 \n",
        "data['Reached.on.Time_Y.N'].value_counts(normalize = True)"
      ],
      "metadata": {
        "colab": {
          "base_uri": "https://localhost:8080/"
        },
        "id": "Wbf9aN-B43WO",
        "outputId": "988620b3-d81c-409c-a3f7-4f8426f713ce"
      },
      "execution_count": 35,
      "outputs": [
        {
          "output_type": "execute_result",
          "data": {
            "text/plain": [
              "1    0.596691\n",
              "0    0.403309\n",
              "Name: Reached.on.Time_Y.N, dtype: float64"
            ]
          },
          "metadata": {},
          "execution_count": 35
        }
      ]
    },
    {
      "cell_type": "code",
      "source": [
        "feature =data.columns[:-1]\n",
        "target = data.columns[-1]\n",
        "\n",
        "X = data[feature]\n",
        "y = data[target]\n",
        "\n",
        "X_train, X_test, y_train, y_test = train_test_split(X, y, test_size = 0.2, train_size = 0.8)"
      ],
      "metadata": {
        "id": "ay_lY9L247g7"
      },
      "execution_count": 36,
      "outputs": []
    },
    {
      "cell_type": "code",
      "source": [
        "randomforest_pipeline = make_pipeline(\n",
        "    OrdinalEncoder(),\n",
        "    #OneHotEncoder(use_cat_names=True),\n",
        "    RandomForestClassifier(max_depth = 5)\n",
        ")\n",
        "\n",
        "randomforest_pipeline.fit(X_train, y_train)"
      ],
      "metadata": {
        "colab": {
          "base_uri": "https://localhost:8080/"
        },
        "id": "yr8xSsBW47ee",
        "outputId": "6efb0ecc-a158-465c-ea15-a937d8afcf3c"
      },
      "execution_count": 37,
      "outputs": [
        {
          "output_type": "execute_result",
          "data": {
            "text/plain": [
              "Pipeline(steps=[('ordinalencoder',\n",
              "                 OrdinalEncoder(cols=['Warehouse_block', 'Mode_of_Shipment',\n",
              "                                      'Product_importance', 'Gender'],\n",
              "                                mapping=[{'col': 'Warehouse_block',\n",
              "                                          'data_type': dtype('O'),\n",
              "                                          'mapping': D      1\n",
              "F      2\n",
              "B      3\n",
              "A      4\n",
              "C      5\n",
              "NaN   -2\n",
              "dtype: int64},\n",
              "                                         {'col': 'Mode_of_Shipment',\n",
              "                                          'data_type': dtype('O'),\n",
              "                                          'mapping': Road      1\n",
              "Ship      2\n",
              "Flight    3\n",
              "NaN      -2\n",
              "dtype: int64},\n",
              "                                         {'col': 'Product_importance',\n",
              "                                          'data_type': dtype('O'),\n",
              "                                          'mapping': medium    1\n",
              "low       2\n",
              "high      3\n",
              "NaN      -2\n",
              "dtype: int64},\n",
              "                                         {'col': 'Gender',\n",
              "                                          'data_type': dtype('O'),\n",
              "                                          'mapping': F      1\n",
              "M      2\n",
              "NaN   -2\n",
              "dtype: int64}])),\n",
              "                ('randomforestclassifier',\n",
              "                 RandomForestClassifier(max_depth=5))])"
            ]
          },
          "metadata": {},
          "execution_count": 37
        }
      ]
    },
    {
      "cell_type": "code",
      "source": [
        "randomforest_pipeline.score(X_train, y_train)"
      ],
      "metadata": {
        "colab": {
          "base_uri": "https://localhost:8080/"
        },
        "id": "IurXKnvV47cF",
        "outputId": "a0aa8072-8df0-45b8-96ed-0224f8ca6ad5"
      },
      "execution_count": 38,
      "outputs": [
        {
          "output_type": "execute_result",
          "data": {
            "text/plain": [
              "0.6987157631549039"
            ]
          },
          "metadata": {},
          "execution_count": 38
        }
      ]
    },
    {
      "cell_type": "code",
      "source": [
        "randomforest_pipeline.score(X_test, y_test)"
      ],
      "metadata": {
        "colab": {
          "base_uri": "https://localhost:8080/"
        },
        "id": "4lCk76bs47Wf",
        "outputId": "5b4c0a85-d60b-4716-fcab-26c0c9e9271b"
      },
      "execution_count": 39,
      "outputs": [
        {
          "output_type": "execute_result",
          "data": {
            "text/plain": [
              "0.6672727272727272"
            ]
          },
          "metadata": {},
          "execution_count": 39
        }
      ]
    },
    {
      "cell_type": "markdown",
      "source": [
        "## 일부 feature 만 사용하여 상품 도착 여부 예측"
      ],
      "metadata": {
        "id": "u_UzTwz-4kSD"
      }
    },
    {
      "cell_type": "markdown",
      "source": [
        "▶ train score 0.8\n",
        "\n",
        "\n",
        "▶ test score 0.63 \n",
        "\n",
        " 이 결과는 과적합이라고 볼 수 있을까요?? \n",
        "\n"
      ],
      "metadata": {
        "id": "R0ra2FUMbSxg"
      }
    },
    {
      "cell_type": "code",
      "source": [
        "# featurn 및 target 설정\n",
        "\n",
        "feature = [ 'Customer_care_calls', 'Customer_rating', 'Cost_of_the_Product', 'Discount_offered', 'Product_importance']\n",
        "target = data.columns[-1]"
      ],
      "metadata": {
        "id": "X2aRtzH5291r"
      },
      "execution_count": 40,
      "outputs": []
    },
    {
      "cell_type": "code",
      "source": [
        "X = data[feature]\n",
        "y = data[target]"
      ],
      "metadata": {
        "id": "xM0Opuhn35t_"
      },
      "execution_count": 41,
      "outputs": []
    },
    {
      "cell_type": "code",
      "source": [
        "# 기준모델 \n",
        "data['Reached.on.Time_Y.N'].value_counts(normalize = True)"
      ],
      "metadata": {
        "colab": {
          "base_uri": "https://localhost:8080/"
        },
        "id": "MGKaaB7036qQ",
        "outputId": "ba528e00-33c3-4a45-c71e-8481a9d7902f"
      },
      "execution_count": 42,
      "outputs": [
        {
          "output_type": "execute_result",
          "data": {
            "text/plain": [
              "1    0.596691\n",
              "0    0.403309\n",
              "Name: Reached.on.Time_Y.N, dtype: float64"
            ]
          },
          "metadata": {},
          "execution_count": 42
        }
      ]
    },
    {
      "cell_type": "code",
      "source": [
        "X_train, X_test, y_train, y_test = train_test_split(X, y, test_size = 0.2, train_size = 0.8)"
      ],
      "metadata": {
        "id": "qpszzhP_38Is"
      },
      "execution_count": 43,
      "outputs": []
    },
    {
      "cell_type": "code",
      "source": [
        "randomforest_pipeline = make_pipeline(\n",
        "    OrdinalEncoder(),\n",
        "    #OneHotEncoder(use_cat_names=True),\n",
        "    RandomForestClassifier(max_depth = 10)\n",
        ")\n",
        "\n",
        "randomforest_pipeline.fit(X_train, y_train)"
      ],
      "metadata": {
        "colab": {
          "base_uri": "https://localhost:8080/"
        },
        "id": "kXbZqm4l39z-",
        "outputId": "76283be4-7557-447f-cae2-dd64ed6eec06"
      },
      "execution_count": 44,
      "outputs": [
        {
          "output_type": "execute_result",
          "data": {
            "text/plain": [
              "Pipeline(steps=[('ordinalencoder',\n",
              "                 OrdinalEncoder(cols=['Product_importance'],\n",
              "                                mapping=[{'col': 'Product_importance',\n",
              "                                          'data_type': dtype('O'),\n",
              "                                          'mapping': medium    1\n",
              "low       2\n",
              "high      3\n",
              "NaN      -2\n",
              "dtype: int64}])),\n",
              "                ('randomforestclassifier',\n",
              "                 RandomForestClassifier(max_depth=10))])"
            ]
          },
          "metadata": {},
          "execution_count": 44
        }
      ]
    },
    {
      "cell_type": "code",
      "source": [
        "randomforest_pipeline.score(X_train, y_train)"
      ],
      "metadata": {
        "colab": {
          "base_uri": "https://localhost:8080/"
        },
        "id": "H2Goua7C3_PW",
        "outputId": "24a4e2c2-9d05-4019-faab-d1ae3e4409eb"
      },
      "execution_count": 45,
      "outputs": [
        {
          "output_type": "execute_result",
          "data": {
            "text/plain": [
              "0.7857711103534493"
            ]
          },
          "metadata": {},
          "execution_count": 45
        }
      ]
    },
    {
      "cell_type": "code",
      "source": [
        "randomforest_pipeline.score(X_test, y_test)"
      ],
      "metadata": {
        "colab": {
          "base_uri": "https://localhost:8080/"
        },
        "id": "e13e2_mc4Aa-",
        "outputId": "70c43de2-c259-4f6d-8e00-a15271312c87"
      },
      "execution_count": 46,
      "outputs": [
        {
          "output_type": "execute_result",
          "data": {
            "text/plain": [
              "0.6295454545454545"
            ]
          },
          "metadata": {},
          "execution_count": 46
        }
      ]
    },
    {
      "cell_type": "code",
      "source": [
        "y_pred = randomforest_pipeline.predict(X_test)"
      ],
      "metadata": {
        "id": "x1G2Jz-d4BvN"
      },
      "execution_count": 47,
      "outputs": []
    },
    {
      "cell_type": "code",
      "source": [
        "acc = accuracy_score(y_test, y_pred)\n",
        "print(\"정확도 : {:.2f}\".format(acc))"
      ],
      "metadata": {
        "colab": {
          "base_uri": "https://localhost:8080/"
        },
        "id": "aF3lk7zM4Ebf",
        "outputId": "7117b163-8e31-494a-c78d-93f03f194224"
      },
      "execution_count": 48,
      "outputs": [
        {
          "output_type": "stream",
          "name": "stdout",
          "text": [
            "정확도 : 0.63\n"
          ]
        }
      ]
    },
    {
      "cell_type": "markdown",
      "source": [
        "## 중요도에 따른 가격예측"
      ],
      "metadata": {
        "id": "Vwb_81z85FS_"
      }
    },
    {
      "cell_type": "code",
      "source": [
        "importance_data = data.loc[:,['Product_importance', 'Cost_of_the_Product']]"
      ],
      "metadata": {
        "id": "YKEqR4hY5I_s"
      },
      "execution_count": 49,
      "outputs": []
    },
    {
      "cell_type": "code",
      "source": [
        "feature = ['Product_importance']\n",
        "target = ['Cost_of_the_Product']\n",
        "\n",
        "X = importance_data[feature]\n",
        "y = importance_data[target]\n",
        "\n",
        "X_train, X_test, y_train, y_test = train_test_split(X, y, test_size = 0.2, train_size = 0.8)"
      ],
      "metadata": {
        "id": "Ka_HmspE5Jw5"
      },
      "execution_count": 50,
      "outputs": []
    },
    {
      "cell_type": "code",
      "source": [
        "onehot_enc = OneHotEncoder(use_cat_names=True)\n",
        "X_train_encoded = onehot_enc.fit_transform(X_train)\n",
        "X_test_encoded = onehot_enc.transform(X_test)"
      ],
      "metadata": {
        "id": "4ewyv1_F5KTB"
      },
      "execution_count": 51,
      "outputs": []
    },
    {
      "cell_type": "code",
      "source": [
        "from sklearn.linear_model import LinearRegression\n",
        "\n",
        "linreg = LinearRegression()\n",
        "\n",
        "linreg.fit(X_train_encoded, y_train)"
      ],
      "metadata": {
        "colab": {
          "base_uri": "https://localhost:8080/"
        },
        "id": "BLoT1Amf5KE8",
        "outputId": "4d442495-2d75-4f5c-e28e-c7799413223b"
      },
      "execution_count": 52,
      "outputs": [
        {
          "output_type": "execute_result",
          "data": {
            "text/plain": [
              "LinearRegression()"
            ]
          },
          "metadata": {},
          "execution_count": 52
        }
      ]
    },
    {
      "cell_type": "code",
      "source": [
        "y_pred = linreg.predict(X_test_encoded)"
      ],
      "metadata": {
        "id": "eG2Vs-QT5KBB"
      },
      "execution_count": 53,
      "outputs": []
    },
    {
      "cell_type": "code",
      "source": [
        "y_pred = pd.DataFrame(y_pred, columns = ['Prediction'])"
      ],
      "metadata": {
        "id": "eyhgYB2s5YId"
      },
      "execution_count": 54,
      "outputs": []
    },
    {
      "cell_type": "code",
      "source": [
        "y_test"
      ],
      "metadata": {
        "colab": {
          "base_uri": "https://localhost:8080/",
          "height": 450
        },
        "id": "NIk9tdRt5Z5y",
        "outputId": "7e840e27-1bb7-4294-a92d-6b228b50725a"
      },
      "execution_count": 55,
      "outputs": [
        {
          "output_type": "execute_result",
          "data": {
            "text/plain": [
              "       Cost_of_the_Product\n",
              "ID                        \n",
              "1230                   119\n",
              "9223                   231\n",
              "9646                   176\n",
              "9522                   234\n",
              "7198                   150\n",
              "...                    ...\n",
              "10766                  274\n",
              "2071                   272\n",
              "3746                   205\n",
              "9575                   191\n",
              "897                    162\n",
              "\n",
              "[2200 rows x 1 columns]"
            ],
            "text/html": [
              "\n",
              "  <div id=\"df-9872bf0b-929a-4bbf-b779-c9b06a2faa2f\">\n",
              "    <div class=\"colab-df-container\">\n",
              "      <div>\n",
              "<style scoped>\n",
              "    .dataframe tbody tr th:only-of-type {\n",
              "        vertical-align: middle;\n",
              "    }\n",
              "\n",
              "    .dataframe tbody tr th {\n",
              "        vertical-align: top;\n",
              "    }\n",
              "\n",
              "    .dataframe thead th {\n",
              "        text-align: right;\n",
              "    }\n",
              "</style>\n",
              "<table border=\"1\" class=\"dataframe\">\n",
              "  <thead>\n",
              "    <tr style=\"text-align: right;\">\n",
              "      <th></th>\n",
              "      <th>Cost_of_the_Product</th>\n",
              "    </tr>\n",
              "    <tr>\n",
              "      <th>ID</th>\n",
              "      <th></th>\n",
              "    </tr>\n",
              "  </thead>\n",
              "  <tbody>\n",
              "    <tr>\n",
              "      <th>1230</th>\n",
              "      <td>119</td>\n",
              "    </tr>\n",
              "    <tr>\n",
              "      <th>9223</th>\n",
              "      <td>231</td>\n",
              "    </tr>\n",
              "    <tr>\n",
              "      <th>9646</th>\n",
              "      <td>176</td>\n",
              "    </tr>\n",
              "    <tr>\n",
              "      <th>9522</th>\n",
              "      <td>234</td>\n",
              "    </tr>\n",
              "    <tr>\n",
              "      <th>7198</th>\n",
              "      <td>150</td>\n",
              "    </tr>\n",
              "    <tr>\n",
              "      <th>...</th>\n",
              "      <td>...</td>\n",
              "    </tr>\n",
              "    <tr>\n",
              "      <th>10766</th>\n",
              "      <td>274</td>\n",
              "    </tr>\n",
              "    <tr>\n",
              "      <th>2071</th>\n",
              "      <td>272</td>\n",
              "    </tr>\n",
              "    <tr>\n",
              "      <th>3746</th>\n",
              "      <td>205</td>\n",
              "    </tr>\n",
              "    <tr>\n",
              "      <th>9575</th>\n",
              "      <td>191</td>\n",
              "    </tr>\n",
              "    <tr>\n",
              "      <th>897</th>\n",
              "      <td>162</td>\n",
              "    </tr>\n",
              "  </tbody>\n",
              "</table>\n",
              "<p>2200 rows × 1 columns</p>\n",
              "</div>\n",
              "      <button class=\"colab-df-convert\" onclick=\"convertToInteractive('df-9872bf0b-929a-4bbf-b779-c9b06a2faa2f')\"\n",
              "              title=\"Convert this dataframe to an interactive table.\"\n",
              "              style=\"display:none;\">\n",
              "        \n",
              "  <svg xmlns=\"http://www.w3.org/2000/svg\" height=\"24px\"viewBox=\"0 0 24 24\"\n",
              "       width=\"24px\">\n",
              "    <path d=\"M0 0h24v24H0V0z\" fill=\"none\"/>\n",
              "    <path d=\"M18.56 5.44l.94 2.06.94-2.06 2.06-.94-2.06-.94-.94-2.06-.94 2.06-2.06.94zm-11 1L8.5 8.5l.94-2.06 2.06-.94-2.06-.94L8.5 2.5l-.94 2.06-2.06.94zm10 10l.94 2.06.94-2.06 2.06-.94-2.06-.94-.94-2.06-.94 2.06-2.06.94z\"/><path d=\"M17.41 7.96l-1.37-1.37c-.4-.4-.92-.59-1.43-.59-.52 0-1.04.2-1.43.59L10.3 9.45l-7.72 7.72c-.78.78-.78 2.05 0 2.83L4 21.41c.39.39.9.59 1.41.59.51 0 1.02-.2 1.41-.59l7.78-7.78 2.81-2.81c.8-.78.8-2.07 0-2.86zM5.41 20L4 18.59l7.72-7.72 1.47 1.35L5.41 20z\"/>\n",
              "  </svg>\n",
              "      </button>\n",
              "      \n",
              "  <style>\n",
              "    .colab-df-container {\n",
              "      display:flex;\n",
              "      flex-wrap:wrap;\n",
              "      gap: 12px;\n",
              "    }\n",
              "\n",
              "    .colab-df-convert {\n",
              "      background-color: #E8F0FE;\n",
              "      border: none;\n",
              "      border-radius: 50%;\n",
              "      cursor: pointer;\n",
              "      display: none;\n",
              "      fill: #1967D2;\n",
              "      height: 32px;\n",
              "      padding: 0 0 0 0;\n",
              "      width: 32px;\n",
              "    }\n",
              "\n",
              "    .colab-df-convert:hover {\n",
              "      background-color: #E2EBFA;\n",
              "      box-shadow: 0px 1px 2px rgba(60, 64, 67, 0.3), 0px 1px 3px 1px rgba(60, 64, 67, 0.15);\n",
              "      fill: #174EA6;\n",
              "    }\n",
              "\n",
              "    [theme=dark] .colab-df-convert {\n",
              "      background-color: #3B4455;\n",
              "      fill: #D2E3FC;\n",
              "    }\n",
              "\n",
              "    [theme=dark] .colab-df-convert:hover {\n",
              "      background-color: #434B5C;\n",
              "      box-shadow: 0px 1px 3px 1px rgba(0, 0, 0, 0.15);\n",
              "      filter: drop-shadow(0px 1px 2px rgba(0, 0, 0, 0.3));\n",
              "      fill: #FFFFFF;\n",
              "    }\n",
              "  </style>\n",
              "\n",
              "      <script>\n",
              "        const buttonEl =\n",
              "          document.querySelector('#df-9872bf0b-929a-4bbf-b779-c9b06a2faa2f button.colab-df-convert');\n",
              "        buttonEl.style.display =\n",
              "          google.colab.kernel.accessAllowed ? 'block' : 'none';\n",
              "\n",
              "        async function convertToInteractive(key) {\n",
              "          const element = document.querySelector('#df-9872bf0b-929a-4bbf-b779-c9b06a2faa2f');\n",
              "          const dataTable =\n",
              "            await google.colab.kernel.invokeFunction('convertToInteractive',\n",
              "                                                     [key], {});\n",
              "          if (!dataTable) return;\n",
              "\n",
              "          const docLinkHtml = 'Like what you see? Visit the ' +\n",
              "            '<a target=\"_blank\" href=https://colab.research.google.com/notebooks/data_table.ipynb>data table notebook</a>'\n",
              "            + ' to learn more about interactive tables.';\n",
              "          element.innerHTML = '';\n",
              "          dataTable['output_type'] = 'display_data';\n",
              "          await google.colab.output.renderOutput(dataTable, element);\n",
              "          const docLink = document.createElement('div');\n",
              "          docLink.innerHTML = docLinkHtml;\n",
              "          element.appendChild(docLink);\n",
              "        }\n",
              "      </script>\n",
              "    </div>\n",
              "  </div>\n",
              "  "
            ]
          },
          "metadata": {},
          "execution_count": 55
        }
      ]
    },
    {
      "cell_type": "code",
      "source": [
        "from sklearn.metrics import r2_score, mean_squared_error\n",
        "\n",
        "print(r2_score(y_test, y_pred)) \n",
        "print(mean_squared_error(y_test, y_pred)) "
      ],
      "metadata": {
        "colab": {
          "base_uri": "https://localhost:8080/"
        },
        "id": "7XkJcdJK5btU",
        "outputId": "8bf7f532-682b-4aed-b192-9df350cf7566"
      },
      "execution_count": 56,
      "outputs": [
        {
          "output_type": "stream",
          "name": "stdout",
          "text": [
            "0.00036072801485143025\n",
            "2353.049211647727\n"
          ]
        }
      ]
    },
    {
      "cell_type": "markdown",
      "source": [
        "큰 의미가 있는 모델은 아닌 것 같습니다."
      ],
      "metadata": {
        "id": "GauJbnjUmzdB"
      }
    }
  ]
}